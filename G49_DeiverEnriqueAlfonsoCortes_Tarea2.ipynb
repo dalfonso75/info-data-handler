{
 "cells": [
  {
   "cell_type": "markdown",
   "metadata": {},
   "source": [
    "# **Curso: Programación para el Análisis de Datos**\n",
    "## **Tarea: Desarrollo de código para el tratamiento y manejo de información**\n",
    "\n",
    "---\n",
    "\n",
    "**Presentado por:** Deiver Enrique Alfonso Cortes\n",
    "\n",
    "**Grupo:** 49\n",
    "\n",
    "**Código:** 203008069\n",
    "\n",
    "**Presentado a:** Miguel Ángel Vargas Valencia\n",
    "\n",
    "**Universidad Nacional Abierta y a Distancia – UNAD**\n",
    "\n",
    "**Fecha:** 27/10/2024"
   ]
  },
  {
   "cell_type": "markdown",
   "metadata": {},
   "source": [
    "### **Ejercicio 1: Datos en línea y tipos de datos.**"
   ]
  },
  {
   "cell_type": "markdown",
   "metadata": {},
   "source": [
    "#### - **Responda las siguientes preguntas en la introducción:**\n",
    "##### -- ¿Qué es REST web service y cómo se utilizan?\n",
    "Un servicio web REST es una forma de estructurar servicios que permite la interoperabilidad entre sistemas utilizando HTTP como protocolo base. En lugar de depender de sesiones continuas o estados mantenidos en el servidor, cada interacción es independiente, haciendo que cada solicitud contenga toda la información necesaria para ser procesada. Los recursos que se exponen en un servicio REST se representan con URIs y se manipulan mediante operaciones HTTP estándar.\n",
    "\n",
    "REST es ideal para aplicaciones escalables y distribuidas, ya que al separar el cliente del servidor, cada parte puede evolucionar sin afectar a la otra. Además, la arquitectura simplifica el desarrollo al ofrecer un enfoque uniforme y eficiente para integrar distintos sistemas. La flexibilidad para elegir los formatos de respuesta (como JSON, XML o HTML) y la posibilidad de cachear las respuestas contribuyen a su rendimiento y eficiencia en diversas aplicaciones, incluidas las móviles y basadas en la web.\n",
    "##### -- ¿Qué es una RESTful API?\n",
    "Una RESTful API es una interfaz de programación de aplicaciones (API) que sigue los principios de la arquitectura REST (Representational State Transfer). Esta API permite la comunicación entre sistemas utilizando el protocolo HTTP para acceder, manipular y transferir recursos de manera eficiente.\n",
    "\n",
    "En una RESTful API, los recursos se identifican mediante URIs (Uniform Resource Identifiers), y cada operación sobre estos recursos se asocia con los métodos estándar de HTTP: GET (para leer), POST (para crear), PUT (para actualizar) y DELETE (para eliminar). La API es stateless (sin estado), lo que significa que cada solicitud contiene toda la información necesaria para procesarla sin depender de peticiones anteriores.\n",
    "##### -- ¿Qué es JSON?\n",
    "JSON (JavaScript Object Notation) es un formato ligero y estructurado para intercambiar datos entre sistemas. Está basado en una sintaxis simple que utiliza pares clave-valor, lo que facilita la lectura y escritura tanto para los humanos como para las máquinas. Aunque tiene sus raíces en JavaScript, es un formato independiente del lenguaje y ampliamente compatible con diversas tecnologías. "
   ]
  },
  {
   "cell_type": "markdown",
   "metadata": {},
   "source": [
    "#### - **Desarrolle un código de Python que le permita obtener los datos de las naves de SpaceX, desde la API spacexdata v4:**\n",
    "  [https://api.spacexdata.com/v4/ships](https://api.spacexdata.com/v4/ships)\n",
    "\n",
    "  Tenga en cuenta que debe usar el paquete `requests`, funciones:\n",
    "  - `request.get`\n",
    "  - `Response.json`\n",
    "\n",
    "  De ser necesario, puede revisar su documentación en:\n",
    "  [https://requests.readthedocs.io/en/latest/api/?requests.Request](https://requests.readthedocs.io/en/latest/api/?requests.Request)"
   ]
  },
  {
   "cell_type": "code",
   "execution_count": 104,
   "metadata": {},
   "outputs": [
    {
     "name": "stdout",
     "output_type": "stream",
     "text": [
      "29\n"
     ]
    }
   ],
   "source": [
    "import requests\n",
    "\n",
    "def get_spacex_ships_data():\n",
    "    \"\"\"\n",
    "    Helper para realizar una solicitud GET a la API de SpaceX y obtener los datos de las naves.\n",
    "    Maneja errores HTTP y de conexión.\n",
    "\n",
    "    @return {list} - Lista de naves si la solicitud es exitosa.\n",
    "    @raises {Exception} - Si la solicitud falla o no se puede acceder al contenido JSON.\n",
    "    \"\"\"\n",
    "    url = \"https://api.spacexdata.com/v4/ships\"\n",
    "    try:\n",
    "        response = requests.get(url)\n",
    "        # Verificar errores\n",
    "        response.raise_for_status()\n",
    "        return response.json()\n",
    "    except requests.exceptions.RequestException as e:\n",
    "        print(f\"Error al realizar la petición: {e}\")\n",
    "        raise\n",
    "\n",
    "\n",
    "data = get_spacex_ships_data()\n",
    "size_rows = len(data)\n",
    "print(size_rows)"
   ]
  },
  {
   "cell_type": "markdown",
   "metadata": {},
   "source": [
    "#### - **Cargue el JSON de la respuesta del request anterior como un DataFrame de pandas (ayuda: función `pd.DataFrame.from_dict`).**"
   ]
  },
  {
   "cell_type": "code",
   "execution_count": 105,
   "metadata": {},
   "outputs": [
    {
     "data": {
      "text/html": [
       "<div>\n",
       "<style scoped>\n",
       "    .dataframe tbody tr th:only-of-type {\n",
       "        vertical-align: middle;\n",
       "    }\n",
       "\n",
       "    .dataframe tbody tr th {\n",
       "        vertical-align: top;\n",
       "    }\n",
       "\n",
       "    .dataframe thead th {\n",
       "        text-align: right;\n",
       "    }\n",
       "</style>\n",
       "<table border=\"1\" class=\"dataframe\">\n",
       "  <thead>\n",
       "    <tr style=\"text-align: right;\">\n",
       "      <th></th>\n",
       "      <th>last_ais_update</th>\n",
       "      <th>legacy_id</th>\n",
       "      <th>model</th>\n",
       "      <th>type</th>\n",
       "      <th>roles</th>\n",
       "      <th>imo</th>\n",
       "      <th>mmsi</th>\n",
       "      <th>abs</th>\n",
       "      <th>class</th>\n",
       "      <th>mass_kg</th>\n",
       "      <th>...</th>\n",
       "      <th>speed_kn</th>\n",
       "      <th>course_deg</th>\n",
       "      <th>latitude</th>\n",
       "      <th>longitude</th>\n",
       "      <th>link</th>\n",
       "      <th>image</th>\n",
       "      <th>name</th>\n",
       "      <th>active</th>\n",
       "      <th>launches</th>\n",
       "      <th>id</th>\n",
       "    </tr>\n",
       "  </thead>\n",
       "  <tbody>\n",
       "    <tr>\n",
       "      <th>0</th>\n",
       "      <td>None</td>\n",
       "      <td>AMERICANCHAMPION</td>\n",
       "      <td>None</td>\n",
       "      <td>Tug</td>\n",
       "      <td>[Support Ship, Barge Tug]</td>\n",
       "      <td>7434016.0</td>\n",
       "      <td>367020820.0</td>\n",
       "      <td>571252.0</td>\n",
       "      <td>7604342.0</td>\n",
       "      <td>266712.0</td>\n",
       "      <td>...</td>\n",
       "      <td>None</td>\n",
       "      <td>None</td>\n",
       "      <td>NaN</td>\n",
       "      <td>NaN</td>\n",
       "      <td>https://www.marinetraffic.com/en/ais/details/s...</td>\n",
       "      <td>https://i.imgur.com/woCxpkj.jpg</td>\n",
       "      <td>American Champion</td>\n",
       "      <td>False</td>\n",
       "      <td>[5eb87cdeffd86e000604b330, 5eb87cdfffd86e00060...</td>\n",
       "      <td>5ea6ed2d080df4000697c901</td>\n",
       "    </tr>\n",
       "    <tr>\n",
       "      <th>1</th>\n",
       "      <td>None</td>\n",
       "      <td>AMERICANISLANDER</td>\n",
       "      <td>None</td>\n",
       "      <td>Cargo</td>\n",
       "      <td>[Dragon Recovery]</td>\n",
       "      <td>NaN</td>\n",
       "      <td>367035570.0</td>\n",
       "      <td>NaN</td>\n",
       "      <td>NaN</td>\n",
       "      <td>NaN</td>\n",
       "      <td>...</td>\n",
       "      <td>None</td>\n",
       "      <td>None</td>\n",
       "      <td>NaN</td>\n",
       "      <td>NaN</td>\n",
       "      <td>https://www.marinetraffic.com/en/ais/details/s...</td>\n",
       "      <td>https://i.imgur.com/jmj8Sh2.jpg</td>\n",
       "      <td>American Islander</td>\n",
       "      <td>False</td>\n",
       "      <td>[5eb87ce0ffd86e000604b332, 5eb87ce1ffd86e00060...</td>\n",
       "      <td>5ea6ed2d080df4000697c902</td>\n",
       "    </tr>\n",
       "    <tr>\n",
       "      <th>2</th>\n",
       "      <td>None</td>\n",
       "      <td>AMERICANSPIRIT</td>\n",
       "      <td>None</td>\n",
       "      <td>Cargo</td>\n",
       "      <td>[Support Ship]</td>\n",
       "      <td>NaN</td>\n",
       "      <td>NaN</td>\n",
       "      <td>NaN</td>\n",
       "      <td>NaN</td>\n",
       "      <td>NaN</td>\n",
       "      <td>...</td>\n",
       "      <td>None</td>\n",
       "      <td>None</td>\n",
       "      <td>NaN</td>\n",
       "      <td>NaN</td>\n",
       "      <td>None</td>\n",
       "      <td>None</td>\n",
       "      <td>American Spirit</td>\n",
       "      <td>False</td>\n",
       "      <td>[5eb87ce1ffd86e000604b334]</td>\n",
       "      <td>5ea6ed2d080df4000697c903</td>\n",
       "    </tr>\n",
       "    <tr>\n",
       "      <th>3</th>\n",
       "      <td>None</td>\n",
       "      <td>ASOG</td>\n",
       "      <td>None</td>\n",
       "      <td>Barge</td>\n",
       "      <td>[ASDS barge]</td>\n",
       "      <td>NaN</td>\n",
       "      <td>NaN</td>\n",
       "      <td>NaN</td>\n",
       "      <td>NaN</td>\n",
       "      <td>NaN</td>\n",
       "      <td>...</td>\n",
       "      <td>None</td>\n",
       "      <td>None</td>\n",
       "      <td>NaN</td>\n",
       "      <td>NaN</td>\n",
       "      <td>None</td>\n",
       "      <td>None</td>\n",
       "      <td>A Shortfall of Gravitas</td>\n",
       "      <td>True</td>\n",
       "      <td>[5fe3b11eb3467846b324216c, 5fe3b15eb3467846b32...</td>\n",
       "      <td>5ea6ed2d080df4000697c904</td>\n",
       "    </tr>\n",
       "    <tr>\n",
       "      <th>4</th>\n",
       "      <td>None</td>\n",
       "      <td>BETTYRGAMBARELLA</td>\n",
       "      <td>None</td>\n",
       "      <td>Tug</td>\n",
       "      <td>[ASDS Tug]</td>\n",
       "      <td>7517478.0</td>\n",
       "      <td>368000890.0</td>\n",
       "      <td>562590.0</td>\n",
       "      <td>7427463.0</td>\n",
       "      <td>202302.0</td>\n",
       "      <td>...</td>\n",
       "      <td>None</td>\n",
       "      <td>None</td>\n",
       "      <td>NaN</td>\n",
       "      <td>NaN</td>\n",
       "      <td>https://www.marinetraffic.com/en/ais/details/s...</td>\n",
       "      <td>https://i.imgur.com/ngYgFnn.jpg</td>\n",
       "      <td>Betty R Gambarella</td>\n",
       "      <td>False</td>\n",
       "      <td>[5eb87d08ffd86e000604b357, 5eb87d0affd86e00060...</td>\n",
       "      <td>5ea6ed2e080df4000697c905</td>\n",
       "    </tr>\n",
       "  </tbody>\n",
       "</table>\n",
       "<p>5 rows × 24 columns</p>\n",
       "</div>"
      ],
      "text/plain": [
       "  last_ais_update         legacy_id model   type                      roles  \\\n",
       "0            None  AMERICANCHAMPION  None    Tug  [Support Ship, Barge Tug]   \n",
       "1            None  AMERICANISLANDER  None  Cargo          [Dragon Recovery]   \n",
       "2            None    AMERICANSPIRIT  None  Cargo             [Support Ship]   \n",
       "3            None              ASOG  None  Barge               [ASDS barge]   \n",
       "4            None  BETTYRGAMBARELLA  None    Tug                 [ASDS Tug]   \n",
       "\n",
       "        imo        mmsi      abs     class  mass_kg  ...  speed_kn  \\\n",
       "0 7434016.0 367020820.0 571252.0 7604342.0 266712.0  ...      None   \n",
       "1       NaN 367035570.0      NaN       NaN      NaN  ...      None   \n",
       "2       NaN         NaN      NaN       NaN      NaN  ...      None   \n",
       "3       NaN         NaN      NaN       NaN      NaN  ...      None   \n",
       "4 7517478.0 368000890.0 562590.0 7427463.0 202302.0  ...      None   \n",
       "\n",
       "   course_deg latitude longitude  \\\n",
       "0        None      NaN       NaN   \n",
       "1        None      NaN       NaN   \n",
       "2        None      NaN       NaN   \n",
       "3        None      NaN       NaN   \n",
       "4        None      NaN       NaN   \n",
       "\n",
       "                                                link  \\\n",
       "0  https://www.marinetraffic.com/en/ais/details/s...   \n",
       "1  https://www.marinetraffic.com/en/ais/details/s...   \n",
       "2                                               None   \n",
       "3                                               None   \n",
       "4  https://www.marinetraffic.com/en/ais/details/s...   \n",
       "\n",
       "                             image                     name  active  \\\n",
       "0  https://i.imgur.com/woCxpkj.jpg        American Champion   False   \n",
       "1  https://i.imgur.com/jmj8Sh2.jpg        American Islander   False   \n",
       "2                             None          American Spirit   False   \n",
       "3                             None  A Shortfall of Gravitas    True   \n",
       "4  https://i.imgur.com/ngYgFnn.jpg       Betty R Gambarella   False   \n",
       "\n",
       "                                            launches                        id  \n",
       "0  [5eb87cdeffd86e000604b330, 5eb87cdfffd86e00060...  5ea6ed2d080df4000697c901  \n",
       "1  [5eb87ce0ffd86e000604b332, 5eb87ce1ffd86e00060...  5ea6ed2d080df4000697c902  \n",
       "2                         [5eb87ce1ffd86e000604b334]  5ea6ed2d080df4000697c903  \n",
       "3  [5fe3b11eb3467846b324216c, 5fe3b15eb3467846b32...  5ea6ed2d080df4000697c904  \n",
       "4  [5eb87d08ffd86e000604b357, 5eb87d0affd86e00060...  5ea6ed2e080df4000697c905  \n",
       "\n",
       "[5 rows x 24 columns]"
      ]
     },
     "execution_count": 105,
     "metadata": {},
     "output_type": "execute_result"
    }
   ],
   "source": [
    "import pandas as pd\n",
    "## verificar que data exista.\n",
    "if data:\n",
    "    df = pd.DataFrame.from_dict(data)\n",
    "else:\n",
    "    print(\"No se pudo cargar el DataFrame debido a un error en la petición.\")\n",
    "df.head()"
   ]
  },
  {
   "cell_type": "markdown",
   "metadata": {},
   "source": [
    "\n",
    "#### - **Determine cuántas columnas tiene el DataFrame anterior, los tipos de datos (Dtype) que tiene y los datos ausentes (ayuda: imprima el `info()` del DataFrame de pandas).**"
   ]
  },
  {
   "cell_type": "code",
   "execution_count": 106,
   "metadata": {},
   "outputs": [
    {
     "name": "stdout",
     "output_type": "stream",
     "text": [
      "<class 'pandas.core.frame.DataFrame'>\n",
      "RangeIndex: 29 entries, 0 to 28\n",
      "Data columns (total 24 columns):\n",
      " #   Column           Non-Null Count  Dtype  \n",
      "---  ------           --------------  -----  \n",
      " 0   last_ais_update  0 non-null      object \n",
      " 1   legacy_id        22 non-null     object \n",
      " 2   model            3 non-null      object \n",
      " 3   type             29 non-null     object \n",
      " 4   roles            29 non-null     object \n",
      " 5   imo              21 non-null     float64\n",
      " 6   mmsi             24 non-null     float64\n",
      " 7   abs              18 non-null     float64\n",
      " 8   class            18 non-null     float64\n",
      " 9   mass_kg          21 non-null     float64\n",
      " 10  mass_lbs         21 non-null     float64\n",
      " 11  year_built       26 non-null     float64\n",
      " 12  home_port        29 non-null     object \n",
      " 13  status           17 non-null     object \n",
      " 14  speed_kn         0 non-null      object \n",
      " 15  course_deg       0 non-null      object \n",
      " 16  latitude         2 non-null      float64\n",
      " 17  longitude        2 non-null      float64\n",
      " 18  link             24 non-null     object \n",
      " 19  image            26 non-null     object \n",
      " 20  name             29 non-null     object \n",
      " 21  active           29 non-null     bool   \n",
      " 22  launches         29 non-null     object \n",
      " 23  id               29 non-null     object \n",
      "dtypes: bool(1), float64(9), object(14)\n",
      "memory usage: 5.4+ KB\n"
     ]
    }
   ],
   "source": [
    "if df is not None:\n",
    "    df.info()\n",
    "else:\n",
    "    print(\"El DataFrame 'df' no está disponible para realizar el análisis.\")"
   ]
  },
  {
   "cell_type": "markdown",
   "metadata": {},
   "source": [
    "#### - **Con la información anterior, en una celda markdown concluya cuáles de las variables podrían ser utilizadas para un análisis y clasifíquelas entre variables cualitativas (categóricas) y cuantitativas (numéricas)**.\n",
    "\n",
    "**Variables cuantitativas (numéricas):**\n",
    "\n",
    "- imo: Identificador marítimo único, relevante para la identificación pero no para el análisis numérico.\n",
    "- mmsi: Similar al IMO, más útil como identificador que para análisis numérico.\n",
    "- **abs**: No es directamente útil para análisis estadístico, pero puede emplearse para clasificar barcos por su certificación.\n",
    "- **class**: Puede utilizarse para agrupar barcos por clase.\n",
    "- **mass_kg**: Variable para análisis de distribución de peso y capacidad.\n",
    "- **mass_lbs**: Similar a mass_kg, pero se debería normalizar a una sola unidad de medida.\n",
    "- **year_built**: Útil para analizar la antigüedad de las embarcaciones.\n",
    "- speed_kn -  Sin datos útiles disponibles, esta variable se descarta para análisis.\n",
    "- course_deg - Sin datos útiles disponibles, esta variable se descarta para análisis.\n",
    "- latitude  - Información geoespacial, pero con pocos datos disponibles (solo 2 no nulos)\n",
    "- logitude - Similar a latitude, pero también con escasa información disponible.\n",
    "\n",
    "**Variables cualitativas (categóricas):**\n",
    "\n",
    "- legacy_id: Puede ser utilizado como un identificador o referencia histórica.\n",
    "- **model**: Se puede utilizar para analizar el desempeño o distribución por modelo.\n",
    "- **type**: Útil para clasificar por tipo de barco y analizar patrones por categoría.\n",
    "- **roles**: Puede usarse para analizar los distintos usos de los barcos.\n",
    "- **home_port**: Permite análisis por puerto de origen.\n",
    "- **status**: Útil para filtrar barcos activos e inactivos.\n",
    "- link: No aporta directamente al análisis, pero sirve para referencias externas.\n",
    "- **name**: Identificador que puede ser útil en gráficos o listados.\n",
    "- **launches**: Útil para analizar cuántos lanzamientos ha participado cada barco.\n",
    "- **active**: Importante para distinguir entre barcos activos e inactivos en el análisis.\n",
    "- id: No aporta al análisis, pero sirve para identificar cada entrada.\n",
    "- last_ais_update: Sin datos útiles disponibles, esta variable se descarta para análisis.\n",
    "\n",
    "Aquellas variables con **negrita** son las que podrían aportar a un análisis."
   ]
  },
  {
   "cell_type": "markdown",
   "metadata": {},
   "source": [
    "#### - **Determine el total de naves y cuántas están activas**."
   ]
  },
  {
   "cell_type": "code",
   "execution_count": 107,
   "metadata": {},
   "outputs": [
    {
     "name": "stdout",
     "output_type": "stream",
     "text": [
      "Total de naves: 29\n",
      "Naves activas: 15\n"
     ]
    }
   ],
   "source": [
    "if df is not None:\n",
    "    total_naves = df.shape[0]\n",
    "    naves_activas = df['active'].sum()\n",
    "    print(f\"Total de naves: {total_naves}\")\n",
    "    print(f\"Naves activas: {naves_activas}\")\n",
    "else:\n",
    "    print(\"El DataFrame 'df' no está disponible para realizar el análisis.\")"
   ]
  },
  {
   "cell_type": "markdown",
   "metadata": {},
   "source": [
    "#### - **Visualice el histograma de los pesos de las naves en kg**."
   ]
  },
  {
   "cell_type": "code",
   "execution_count": 108,
   "metadata": {},
   "outputs": [
    {
     "name": "stdout",
     "output_type": "stream",
     "text": [
      "4\n"
     ]
    },
    {
     "data": {
      "image/png": "[encoded data removed]",
      "text/plain": [
       "<Figure size 640x480 with 1 Axes>"
      ]
     },
     "metadata": {},
     "output_type": "display_data"
    }
   ],
   "source": [
    "import numpy as np\n",
    "import matplotlib.pyplot as plt\n",
    "\n",
    "if df is not None:\n",
    "    if \"mass_kg\" in df.columns and df[\"mass_kg\"].notnull().any():\n",
    "        # Cálculo dinámico del número de bins (Regla de Sturges o Raíz Cuadrada)\n",
    "        # Número de datos no nulos\n",
    "        n = df[\"mass_kg\"].notna().sum()\n",
    "        # Elige el menor entre ambas reglas\n",
    "        bins = min(1 + int(np.log2(n)), int(np.sqrt(n)))\n",
    "        print(bins)\n",
    "        df[\"mass_kg\"].dropna().hist(bins=bins)\n",
    "        plt.xlabel(\"Peso (kg)\")\n",
    "        plt.ylabel(\"Frecuencia\")\n",
    "        plt.title(\"Histograma de los pesos de las naves en kg\")\n",
    "        plt.show()\n",
    "    else:\n",
    "        print(\"No hay datos de 'mass_kg' para visualizar el histograma.\")\n",
    "else:\n",
    "    print(\"El DataFrame 'df' no está disponible para realizar el análisis.\")"
   ]
  },
  {
   "cell_type": "markdown",
   "metadata": {},
   "source": [
    "El histograma presenta la distribución de los pesos de las naves en kilogramos, utilizando 4 bins. Estos bins fueron determinados mediante la Regla de Sturges o la Raíz Cuadrada del tamaño de la muestra, eligiendo la opción más apropiada para los datos disponibles. En la escala mostrada, cada unidad en el eje horizontal equivale a un millón (1e6) de kilogramos, lo que indica que los pesos analizados oscilan en un rango considerablemente alto. La mayor concentración de datos se encuentra en el primer bin, que cubre pesos de hasta aproximadamente 1 millón de kilogramos, indicando que la mayoría de las naves tienen un peso significativo pero concentrado en la parte más baja del rango observado. Esta distribución sugiere una tendencia hacia la izquierda, conocida como sesgo positivo, con menor frecuencia a medida que los pesos aumentan. En resumen, el histograma muestra que la mayoría de las naves tienen un peso elevado en términos absolutos, con una ligera concentración hacia los valores más bajos del rango y algunos casos excepcionales que alcanzan pesos aún mayores."
   ]
  },
  {
   "cell_type": "markdown",
   "metadata": {},
   "source": [
    "### **Ejercicio 2: Limpieza y procesamiento de datos**"
   ]
  },
  {
   "cell_type": "markdown",
   "metadata": {},
   "source": [
    "Para este ejercicio, cargue de nuevo los datos del Ejercicio 1, pero genere un DataFrame llamado df, solamente con las columnas:\n",
    "\n",
    "- type\n",
    "- mass_kg\n",
    "- year_built\n",
    "- home_port\n",
    "- name"
   ]
  },
  {
   "cell_type": "code",
   "execution_count": 109,
   "metadata": {},
   "outputs": [
    {
     "data": {
      "text/html": [
       "<div>\n",
       "<style scoped>\n",
       "    .dataframe tbody tr th:only-of-type {\n",
       "        vertical-align: middle;\n",
       "    }\n",
       "\n",
       "    .dataframe tbody tr th {\n",
       "        vertical-align: top;\n",
       "    }\n",
       "\n",
       "    .dataframe thead th {\n",
       "        text-align: right;\n",
       "    }\n",
       "</style>\n",
       "<table border=\"1\" class=\"dataframe\">\n",
       "  <thead>\n",
       "    <tr style=\"text-align: right;\">\n",
       "      <th></th>\n",
       "      <th>type</th>\n",
       "      <th>mass_kg</th>\n",
       "      <th>year_built</th>\n",
       "      <th>home_port</th>\n",
       "      <th>name</th>\n",
       "    </tr>\n",
       "  </thead>\n",
       "  <tbody>\n",
       "    <tr>\n",
       "      <th>0</th>\n",
       "      <td>Tug</td>\n",
       "      <td>266712.0</td>\n",
       "      <td>1976.0</td>\n",
       "      <td>Port of Los Angeles</td>\n",
       "      <td>American Champion</td>\n",
       "    </tr>\n",
       "    <tr>\n",
       "      <th>1</th>\n",
       "      <td>Cargo</td>\n",
       "      <td>NaN</td>\n",
       "      <td>NaN</td>\n",
       "      <td>Port of Los Angeles</td>\n",
       "      <td>American Islander</td>\n",
       "    </tr>\n",
       "    <tr>\n",
       "      <th>2</th>\n",
       "      <td>Cargo</td>\n",
       "      <td>NaN</td>\n",
       "      <td>NaN</td>\n",
       "      <td>Port of Los Angeles</td>\n",
       "      <td>American Spirit</td>\n",
       "    </tr>\n",
       "    <tr>\n",
       "      <th>3</th>\n",
       "      <td>Barge</td>\n",
       "      <td>NaN</td>\n",
       "      <td>2021.0</td>\n",
       "      <td>Port Canaveral</td>\n",
       "      <td>A Shortfall of Gravitas</td>\n",
       "    </tr>\n",
       "    <tr>\n",
       "      <th>4</th>\n",
       "      <td>Tug</td>\n",
       "      <td>202302.0</td>\n",
       "      <td>1974.0</td>\n",
       "      <td>Port of Los Angeles</td>\n",
       "      <td>Betty R Gambarella</td>\n",
       "    </tr>\n",
       "  </tbody>\n",
       "</table>\n",
       "</div>"
      ],
      "text/plain": [
       "    type  mass_kg  year_built            home_port                     name\n",
       "0    Tug 266712.0      1976.0  Port of Los Angeles        American Champion\n",
       "1  Cargo      NaN         NaN  Port of Los Angeles        American Islander\n",
       "2  Cargo      NaN         NaN  Port of Los Angeles          American Spirit\n",
       "3  Barge      NaN      2021.0       Port Canaveral  A Shortfall of Gravitas\n",
       "4    Tug 202302.0      1974.0  Port of Los Angeles       Betty R Gambarella"
      ]
     },
     "execution_count": 109,
     "metadata": {},
     "output_type": "execute_result"
    }
   ],
   "source": [
    "## verificar que data exista.\n",
    "if data:\n",
    "    df = pd.DataFrame(data, columns=['type', 'mass_kg', 'year_built', 'home_port', 'name'])\n",
    "else:\n",
    "    print(\"No se pudo cargar el DataFrame debido a un error\")\n",
    "df.head()"
   ]
  },
  {
   "cell_type": "markdown",
   "metadata": {},
   "source": [
    "#### **Revisando datos faltantes:**\n",
    "##### **Determine cuantos datos faltantes hay en la variable mass_kg del mediante value_counts()**"
   ]
  },
  {
   "cell_type": "code",
   "execution_count": 110,
   "metadata": {},
   "outputs": [
    {
     "name": "stdout",
     "output_type": "stream",
     "text": [
      "Conteo de valoress 'mass_kg':\n",
      "- Valores faltantes: 8\n",
      "- Valores no faltantes: 21\n"
     ]
    }
   ],
   "source": [
    "missing_mass_kg_count = df['mass_kg'].isna().value_counts()\n",
    "\n",
    "missing_count = missing_mass_kg_count.get(True, 0)\n",
    "not_missing_count = missing_mass_kg_count.get(False, 0)\n",
    "\n",
    "print(\"Conteo de valoress 'mass_kg':\")\n",
    "print(f\"- Valores faltantes: {missing_count}\")\n",
    "print(f\"- Valores no faltantes: {not_missing_count}\")"
   ]
  },
  {
   "cell_type": "markdown",
   "metadata": {},
   "source": [
    "##### **Crea un DataFrame df1 removiendo las filas que tienen algunos datos faltantes. Por otro lado crea un DataFrame df2 removiendo las filas que tienen todos los datos faltantes. Compáralos y comenta los resultados.**"
   ]
  },
  {
   "cell_type": "code",
   "execution_count": 111,
   "metadata": {},
   "outputs": [
    {
     "name": "stdout",
     "output_type": "stream",
     "text": [
      "Tamaño del DataFrame original: (29, 5)\n",
      "Tamaño de df1 (sin filas con datos faltantes): (21, 5)\n",
      "Tamaño de df2 (sin filas completamente vacías): (29, 5)\n"
     ]
    }
   ],
   "source": [
    "df1 = df.dropna(how='any')  # Elimina filas con al menos un dato faltante\n",
    "df2 = df.dropna(how='all')  # Elimina filas con todos los datos faltantes\n",
    "\n",
    "print(\"Tamaño del DataFrame original:\", df.shape)\n",
    "print(\"Tamaño de df1 (sin filas con datos faltantes):\", df1.shape)\n",
    "print(\"Tamaño de df2 (sin filas completamente vacías):\", df2.shape)"
   ]
  },
  {
   "cell_type": "markdown",
   "metadata": {},
   "source": [
    "La comparación revela que algunas filas del DataFrame original contenían valores nulos (8 filas con al menos un dato faltante), pero ninguna fila estaba completamente vacía. Esto indica que los valores faltantes se distribuyen de manera aislada, sin afectar todas las columnas en ninguna fila. Como observamos en el análisis anterior, la columna con la mayor incidencia de valores faltantes es `mass_kg`."
   ]
  },
  {
   "cell_type": "markdown",
   "metadata": {},
   "source": [
    "##### **En el DataFrame df completa los datos faltantes por los siguientes tres métodos (muestra y comenta los resultados):**\n",
    "\n",
    "###### Completar datos faltantes con el número 0."
   ]
  },
  {
   "cell_type": "code",
   "execution_count": 112,
   "metadata": {},
   "outputs": [
    {
     "name": "stdout",
     "output_type": "stream",
     "text": [
      "Primeras filas completadas con 0:\n"
     ]
    },
    {
     "data": {
      "text/html": [
       "<div>\n",
       "<style scoped>\n",
       "    .dataframe tbody tr th:only-of-type {\n",
       "        vertical-align: middle;\n",
       "    }\n",
       "\n",
       "    .dataframe tbody tr th {\n",
       "        vertical-align: top;\n",
       "    }\n",
       "\n",
       "    .dataframe thead th {\n",
       "        text-align: right;\n",
       "    }\n",
       "</style>\n",
       "<table border=\"1\" class=\"dataframe\">\n",
       "  <thead>\n",
       "    <tr style=\"text-align: right;\">\n",
       "      <th></th>\n",
       "      <th>type</th>\n",
       "      <th>mass_kg</th>\n",
       "      <th>year_built</th>\n",
       "      <th>home_port</th>\n",
       "      <th>name</th>\n",
       "    </tr>\n",
       "  </thead>\n",
       "  <tbody>\n",
       "    <tr>\n",
       "      <th>0</th>\n",
       "      <td>Tug</td>\n",
       "      <td>266712.0</td>\n",
       "      <td>1976.0</td>\n",
       "      <td>Port of Los Angeles</td>\n",
       "      <td>American Champion</td>\n",
       "    </tr>\n",
       "    <tr>\n",
       "      <th>1</th>\n",
       "      <td>Cargo</td>\n",
       "      <td>0.0</td>\n",
       "      <td>0.0</td>\n",
       "      <td>Port of Los Angeles</td>\n",
       "      <td>American Islander</td>\n",
       "    </tr>\n",
       "    <tr>\n",
       "      <th>2</th>\n",
       "      <td>Cargo</td>\n",
       "      <td>0.0</td>\n",
       "      <td>0.0</td>\n",
       "      <td>Port of Los Angeles</td>\n",
       "      <td>American Spirit</td>\n",
       "    </tr>\n",
       "    <tr>\n",
       "      <th>3</th>\n",
       "      <td>Barge</td>\n",
       "      <td>0.0</td>\n",
       "      <td>2021.0</td>\n",
       "      <td>Port Canaveral</td>\n",
       "      <td>A Shortfall of Gravitas</td>\n",
       "    </tr>\n",
       "    <tr>\n",
       "      <th>4</th>\n",
       "      <td>Tug</td>\n",
       "      <td>202302.0</td>\n",
       "      <td>1974.0</td>\n",
       "      <td>Port of Los Angeles</td>\n",
       "      <td>Betty R Gambarella</td>\n",
       "    </tr>\n",
       "    <tr>\n",
       "      <th>5</th>\n",
       "      <td>Tug</td>\n",
       "      <td>273063.0</td>\n",
       "      <td>1999.0</td>\n",
       "      <td>Port Canaveral</td>\n",
       "      <td>Elsbeth III</td>\n",
       "    </tr>\n",
       "    <tr>\n",
       "      <th>6</th>\n",
       "      <td>High Speed Craft</td>\n",
       "      <td>449964.0</td>\n",
       "      <td>2014.0</td>\n",
       "      <td>Port Canaveral</td>\n",
       "      <td>GO Ms Chief</td>\n",
       "    </tr>\n",
       "    <tr>\n",
       "      <th>7</th>\n",
       "      <td>High Speed Craft</td>\n",
       "      <td>449964.0</td>\n",
       "      <td>2015.0</td>\n",
       "      <td>Port Canaveral</td>\n",
       "      <td>GO Ms Tree</td>\n",
       "    </tr>\n",
       "    <tr>\n",
       "      <th>8</th>\n",
       "      <td>Cargo</td>\n",
       "      <td>451778.0</td>\n",
       "      <td>2009.0</td>\n",
       "      <td>Port Canaveral</td>\n",
       "      <td>Shannon</td>\n",
       "    </tr>\n",
       "    <tr>\n",
       "      <th>9</th>\n",
       "      <td>Cargo</td>\n",
       "      <td>502999.0</td>\n",
       "      <td>2007.0</td>\n",
       "      <td>Port Canaveral</td>\n",
       "      <td>GO Pursuit</td>\n",
       "    </tr>\n",
       "    <tr>\n",
       "      <th>10</th>\n",
       "      <td>Cargo</td>\n",
       "      <td>0.0</td>\n",
       "      <td>2014.0</td>\n",
       "      <td>Port Canaveral</td>\n",
       "      <td>GO Quest</td>\n",
       "    </tr>\n",
       "    <tr>\n",
       "      <th>11</th>\n",
       "      <td>Cargo</td>\n",
       "      <td>450870.0</td>\n",
       "      <td>2010.0</td>\n",
       "      <td>Port Canaveral</td>\n",
       "      <td>Megan</td>\n",
       "    </tr>\n",
       "    <tr>\n",
       "      <th>12</th>\n",
       "      <td>Tug</td>\n",
       "      <td>508023.0</td>\n",
       "      <td>1995.0</td>\n",
       "      <td>Port Canaveral</td>\n",
       "      <td>HAWK</td>\n",
       "    </tr>\n",
       "    <tr>\n",
       "      <th>13</th>\n",
       "      <td>Tug</td>\n",
       "      <td>320236.0</td>\n",
       "      <td>1985.0</td>\n",
       "      <td>Fort Lauderdale</td>\n",
       "      <td>Hollywood</td>\n",
       "    </tr>\n",
       "    <tr>\n",
       "      <th>14</th>\n",
       "      <td>Barge</td>\n",
       "      <td>0.0</td>\n",
       "      <td>2014.0</td>\n",
       "      <td>Port Canaveral</td>\n",
       "      <td>Just Read The Instructions 1</td>\n",
       "    </tr>\n",
       "    <tr>\n",
       "      <th>15</th>\n",
       "      <td>Barge</td>\n",
       "      <td>0.0</td>\n",
       "      <td>2015.0</td>\n",
       "      <td>Port Canaveral</td>\n",
       "      <td>Just Read The Instructions 2</td>\n",
       "    </tr>\n",
       "    <tr>\n",
       "      <th>16</th>\n",
       "      <td>Tug</td>\n",
       "      <td>0.0</td>\n",
       "      <td>0.0</td>\n",
       "      <td>Port of Los Angeles</td>\n",
       "      <td>Kelly C</td>\n",
       "    </tr>\n",
       "    <tr>\n",
       "      <th>17</th>\n",
       "      <td>Cargo</td>\n",
       "      <td>440892.0</td>\n",
       "      <td>2002.0</td>\n",
       "      <td>Port of Los Angeles</td>\n",
       "      <td>NRC Quest</td>\n",
       "    </tr>\n",
       "    <tr>\n",
       "      <th>18</th>\n",
       "      <td>Barge</td>\n",
       "      <td>0.0</td>\n",
       "      <td>2015.0</td>\n",
       "      <td>Port of Los Angeles</td>\n",
       "      <td>Of Course I Still Love You</td>\n",
       "    </tr>\n",
       "    <tr>\n",
       "      <th>19</th>\n",
       "      <td>Tug</td>\n",
       "      <td>89811.0</td>\n",
       "      <td>1976.0</td>\n",
       "      <td>Port of Los Angeles</td>\n",
       "      <td>Pacific Freeedom</td>\n",
       "    </tr>\n",
       "    <tr>\n",
       "      <th>20</th>\n",
       "      <td>Tug</td>\n",
       "      <td>351080.0</td>\n",
       "      <td>1974.0</td>\n",
       "      <td>Port of Los Angeles</td>\n",
       "      <td>Pacific Warrior</td>\n",
       "    </tr>\n",
       "    <tr>\n",
       "      <th>21</th>\n",
       "      <td>Tug</td>\n",
       "      <td>312072.0</td>\n",
       "      <td>1976.0</td>\n",
       "      <td>Port Canaveral</td>\n",
       "      <td>RACHEL</td>\n",
       "    </tr>\n",
       "    <tr>\n",
       "      <th>22</th>\n",
       "      <td>Tug</td>\n",
       "      <td>843682.0</td>\n",
       "      <td>1975.0</td>\n",
       "      <td>Port Canaveral</td>\n",
       "      <td>Finn Falgout</td>\n",
       "    </tr>\n",
       "    <tr>\n",
       "      <th>23</th>\n",
       "      <td>Tug</td>\n",
       "      <td>741170.0</td>\n",
       "      <td>2003.0</td>\n",
       "      <td>Port Canaveral</td>\n",
       "      <td>Lauren Foss</td>\n",
       "    </tr>\n",
       "    <tr>\n",
       "      <th>24</th>\n",
       "      <td>Cargo</td>\n",
       "      <td>2097411.0</td>\n",
       "      <td>2014.0</td>\n",
       "      <td>Port Canaveral</td>\n",
       "      <td>Shelia Bordelon</td>\n",
       "    </tr>\n",
       "    <tr>\n",
       "      <th>25</th>\n",
       "      <td>Tug</td>\n",
       "      <td>445428.0</td>\n",
       "      <td>1944.0</td>\n",
       "      <td>Port Canaveral</td>\n",
       "      <td>Mr. Jonah</td>\n",
       "    </tr>\n",
       "    <tr>\n",
       "      <th>26</th>\n",
       "      <td>Cargo</td>\n",
       "      <td>4616663.0</td>\n",
       "      <td>2015.0</td>\n",
       "      <td>Port Canaveral</td>\n",
       "      <td>HOS Briarwood</td>\n",
       "    </tr>\n",
       "    <tr>\n",
       "      <th>27</th>\n",
       "      <td>Cargo</td>\n",
       "      <td>2719740.0</td>\n",
       "      <td>2009.0</td>\n",
       "      <td>Port Canaveral</td>\n",
       "      <td>Doug</td>\n",
       "    </tr>\n",
       "    <tr>\n",
       "      <th>28</th>\n",
       "      <td>Cargo</td>\n",
       "      <td>2719740.0</td>\n",
       "      <td>2009.0</td>\n",
       "      <td>Port Canaveral</td>\n",
       "      <td>Bob</td>\n",
       "    </tr>\n",
       "  </tbody>\n",
       "</table>\n",
       "</div>"
      ],
      "text/plain": [
       "                type   mass_kg  year_built            home_port  \\\n",
       "0                Tug  266712.0      1976.0  Port of Los Angeles   \n",
       "1              Cargo       0.0         0.0  Port of Los Angeles   \n",
       "2              Cargo       0.0         0.0  Port of Los Angeles   \n",
       "3              Barge       0.0      2021.0       Port Canaveral   \n",
       "4                Tug  202302.0      1974.0  Port of Los Angeles   \n",
       "5                Tug  273063.0      1999.0       Port Canaveral   \n",
       "6   High Speed Craft  449964.0      2014.0       Port Canaveral   \n",
       "7   High Speed Craft  449964.0      2015.0       Port Canaveral   \n",
       "8              Cargo  451778.0      2009.0       Port Canaveral   \n",
       "9              Cargo  502999.0      2007.0       Port Canaveral   \n",
       "10             Cargo       0.0      2014.0       Port Canaveral   \n",
       "11             Cargo  450870.0      2010.0       Port Canaveral   \n",
       "12               Tug  508023.0      1995.0       Port Canaveral   \n",
       "13               Tug  320236.0      1985.0      Fort Lauderdale   \n",
       "14             Barge       0.0      2014.0       Port Canaveral   \n",
       "15             Barge       0.0      2015.0       Port Canaveral   \n",
       "16               Tug       0.0         0.0  Port of Los Angeles   \n",
       "17             Cargo  440892.0      2002.0  Port of Los Angeles   \n",
       "18             Barge       0.0      2015.0  Port of Los Angeles   \n",
       "19               Tug   89811.0      1976.0  Port of Los Angeles   \n",
       "20               Tug  351080.0      1974.0  Port of Los Angeles   \n",
       "21               Tug  312072.0      1976.0       Port Canaveral   \n",
       "22               Tug  843682.0      1975.0       Port Canaveral   \n",
       "23               Tug  741170.0      2003.0       Port Canaveral   \n",
       "24             Cargo 2097411.0      2014.0       Port Canaveral   \n",
       "25               Tug  445428.0      1944.0       Port Canaveral   \n",
       "26             Cargo 4616663.0      2015.0       Port Canaveral   \n",
       "27             Cargo 2719740.0      2009.0       Port Canaveral   \n",
       "28             Cargo 2719740.0      2009.0       Port Canaveral   \n",
       "\n",
       "                            name  \n",
       "0              American Champion  \n",
       "1              American Islander  \n",
       "2                American Spirit  \n",
       "3        A Shortfall of Gravitas  \n",
       "4             Betty R Gambarella  \n",
       "5                    Elsbeth III  \n",
       "6                    GO Ms Chief  \n",
       "7                     GO Ms Tree  \n",
       "8                        Shannon  \n",
       "9                     GO Pursuit  \n",
       "10                      GO Quest  \n",
       "11                         Megan  \n",
       "12                          HAWK  \n",
       "13                     Hollywood  \n",
       "14  Just Read The Instructions 1  \n",
       "15  Just Read The Instructions 2  \n",
       "16                       Kelly C  \n",
       "17                     NRC Quest  \n",
       "18    Of Course I Still Love You  \n",
       "19              Pacific Freeedom  \n",
       "20               Pacific Warrior  \n",
       "21                        RACHEL  \n",
       "22                  Finn Falgout  \n",
       "23                   Lauren Foss  \n",
       "24               Shelia Bordelon  \n",
       "25                     Mr. Jonah  \n",
       "26                 HOS Briarwood  \n",
       "27                          Doug  \n",
       "28                           Bob  "
      ]
     },
     "execution_count": 112,
     "metadata": {},
     "output_type": "execute_result"
    }
   ],
   "source": [
    "df_fill_0 = df.fillna(0)\n",
    "print(\"Primeras filas completadas con 0:\")\n",
    "df_fill_0.head(size_rows)"
   ]
  },
  {
   "cell_type": "markdown",
   "metadata": {},
   "source": [
    "###### Completar por método de propagación hacia adelante."
   ]
  },
  {
   "cell_type": "code",
   "execution_count": 113,
   "metadata": {},
   "outputs": [
    {
     "name": "stdout",
     "output_type": "stream",
     "text": [
      "Primeras filas completadas por propagación hacia adelante:\n"
     ]
    },
    {
     "name": "stderr",
     "output_type": "stream",
     "text": [
      "C:\\Users\\wwwde\\AppData\\Local\\Temp\\ipykernel_8084\\1330791789.py:1: FutureWarning: DataFrame.fillna with 'method' is deprecated and will raise in a future version. Use obj.ffill() or obj.bfill() instead.\n",
      "  df_ffill = df.fillna(method='ffill')\n"
     ]
    },
    {
     "data": {
      "text/html": [
       "<div>\n",
       "<style scoped>\n",
       "    .dataframe tbody tr th:only-of-type {\n",
       "        vertical-align: middle;\n",
       "    }\n",
       "\n",
       "    .dataframe tbody tr th {\n",
       "        vertical-align: top;\n",
       "    }\n",
       "\n",
       "    .dataframe thead th {\n",
       "        text-align: right;\n",
       "    }\n",
       "</style>\n",
       "<table border=\"1\" class=\"dataframe\">\n",
       "  <thead>\n",
       "    <tr style=\"text-align: right;\">\n",
       "      <th></th>\n",
       "      <th>type</th>\n",
       "      <th>mass_kg</th>\n",
       "      <th>year_built</th>\n",
       "      <th>home_port</th>\n",
       "      <th>name</th>\n",
       "    </tr>\n",
       "  </thead>\n",
       "  <tbody>\n",
       "    <tr>\n",
       "      <th>0</th>\n",
       "      <td>Tug</td>\n",
       "      <td>266712.0</td>\n",
       "      <td>1976.0</td>\n",
       "      <td>Port of Los Angeles</td>\n",
       "      <td>American Champion</td>\n",
       "    </tr>\n",
       "    <tr>\n",
       "      <th>1</th>\n",
       "      <td>Cargo</td>\n",
       "      <td>266712.0</td>\n",
       "      <td>1976.0</td>\n",
       "      <td>Port of Los Angeles</td>\n",
       "      <td>American Islander</td>\n",
       "    </tr>\n",
       "    <tr>\n",
       "      <th>2</th>\n",
       "      <td>Cargo</td>\n",
       "      <td>266712.0</td>\n",
       "      <td>1976.0</td>\n",
       "      <td>Port of Los Angeles</td>\n",
       "      <td>American Spirit</td>\n",
       "    </tr>\n",
       "    <tr>\n",
       "      <th>3</th>\n",
       "      <td>Barge</td>\n",
       "      <td>266712.0</td>\n",
       "      <td>2021.0</td>\n",
       "      <td>Port Canaveral</td>\n",
       "      <td>A Shortfall of Gravitas</td>\n",
       "    </tr>\n",
       "    <tr>\n",
       "      <th>4</th>\n",
       "      <td>Tug</td>\n",
       "      <td>202302.0</td>\n",
       "      <td>1974.0</td>\n",
       "      <td>Port of Los Angeles</td>\n",
       "      <td>Betty R Gambarella</td>\n",
       "    </tr>\n",
       "    <tr>\n",
       "      <th>5</th>\n",
       "      <td>Tug</td>\n",
       "      <td>273063.0</td>\n",
       "      <td>1999.0</td>\n",
       "      <td>Port Canaveral</td>\n",
       "      <td>Elsbeth III</td>\n",
       "    </tr>\n",
       "    <tr>\n",
       "      <th>6</th>\n",
       "      <td>High Speed Craft</td>\n",
       "      <td>449964.0</td>\n",
       "      <td>2014.0</td>\n",
       "      <td>Port Canaveral</td>\n",
       "      <td>GO Ms Chief</td>\n",
       "    </tr>\n",
       "    <tr>\n",
       "      <th>7</th>\n",
       "      <td>High Speed Craft</td>\n",
       "      <td>449964.0</td>\n",
       "      <td>2015.0</td>\n",
       "      <td>Port Canaveral</td>\n",
       "      <td>GO Ms Tree</td>\n",
       "    </tr>\n",
       "    <tr>\n",
       "      <th>8</th>\n",
       "      <td>Cargo</td>\n",
       "      <td>451778.0</td>\n",
       "      <td>2009.0</td>\n",
       "      <td>Port Canaveral</td>\n",
       "      <td>Shannon</td>\n",
       "    </tr>\n",
       "    <tr>\n",
       "      <th>9</th>\n",
       "      <td>Cargo</td>\n",
       "      <td>502999.0</td>\n",
       "      <td>2007.0</td>\n",
       "      <td>Port Canaveral</td>\n",
       "      <td>GO Pursuit</td>\n",
       "    </tr>\n",
       "  </tbody>\n",
       "</table>\n",
       "</div>"
      ],
      "text/plain": [
       "               type  mass_kg  year_built            home_port  \\\n",
       "0               Tug 266712.0      1976.0  Port of Los Angeles   \n",
       "1             Cargo 266712.0      1976.0  Port of Los Angeles   \n",
       "2             Cargo 266712.0      1976.0  Port of Los Angeles   \n",
       "3             Barge 266712.0      2021.0       Port Canaveral   \n",
       "4               Tug 202302.0      1974.0  Port of Los Angeles   \n",
       "5               Tug 273063.0      1999.0       Port Canaveral   \n",
       "6  High Speed Craft 449964.0      2014.0       Port Canaveral   \n",
       "7  High Speed Craft 449964.0      2015.0       Port Canaveral   \n",
       "8             Cargo 451778.0      2009.0       Port Canaveral   \n",
       "9             Cargo 502999.0      2007.0       Port Canaveral   \n",
       "\n",
       "                      name  \n",
       "0        American Champion  \n",
       "1        American Islander  \n",
       "2          American Spirit  \n",
       "3  A Shortfall of Gravitas  \n",
       "4       Betty R Gambarella  \n",
       "5              Elsbeth III  \n",
       "6              GO Ms Chief  \n",
       "7               GO Ms Tree  \n",
       "8                  Shannon  \n",
       "9               GO Pursuit  "
      ]
     },
     "execution_count": 113,
     "metadata": {},
     "output_type": "execute_result"
    }
   ],
   "source": [
    "df_ffill = df.fillna(method='ffill')\n",
    "print(\"Primeras filas completadas por propagación hacia adelante:\")\n",
    "df_ffill.head(10)"
   ]
  },
  {
   "cell_type": "markdown",
   "metadata": {},
   "source": [
    "###### Completar los valores faltantes con el promedio de la columna"
   ]
  },
  {
   "cell_type": "code",
   "execution_count": 114,
   "metadata": {},
   "outputs": [
    {
     "name": "stdout",
     "output_type": "stream",
     "text": [
      "Primeras filas con 'mass_kg' completadas con el promedio:\n"
     ]
    },
    {
     "data": {
      "text/html": [
       "<div>\n",
       "<style scoped>\n",
       "    .dataframe tbody tr th:only-of-type {\n",
       "        vertical-align: middle;\n",
       "    }\n",
       "\n",
       "    .dataframe tbody tr th {\n",
       "        vertical-align: top;\n",
       "    }\n",
       "\n",
       "    .dataframe thead th {\n",
       "        text-align: right;\n",
       "    }\n",
       "</style>\n",
       "<table border=\"1\" class=\"dataframe\">\n",
       "  <thead>\n",
       "    <tr style=\"text-align: right;\">\n",
       "      <th></th>\n",
       "      <th>type</th>\n",
       "      <th>mass_kg</th>\n",
       "      <th>year_built</th>\n",
       "      <th>home_port</th>\n",
       "      <th>name</th>\n",
       "    </tr>\n",
       "  </thead>\n",
       "  <tbody>\n",
       "    <tr>\n",
       "      <th>0</th>\n",
       "      <td>Tug</td>\n",
       "      <td>266712.0</td>\n",
       "      <td>1976.0</td>\n",
       "      <td>Port of Los Angeles</td>\n",
       "      <td>American Champion</td>\n",
       "    </tr>\n",
       "    <tr>\n",
       "      <th>1</th>\n",
       "      <td>Cargo</td>\n",
       "      <td>916838.1</td>\n",
       "      <td>NaN</td>\n",
       "      <td>Port of Los Angeles</td>\n",
       "      <td>American Islander</td>\n",
       "    </tr>\n",
       "    <tr>\n",
       "      <th>2</th>\n",
       "      <td>Cargo</td>\n",
       "      <td>916838.1</td>\n",
       "      <td>NaN</td>\n",
       "      <td>Port of Los Angeles</td>\n",
       "      <td>American Spirit</td>\n",
       "    </tr>\n",
       "    <tr>\n",
       "      <th>3</th>\n",
       "      <td>Barge</td>\n",
       "      <td>916838.1</td>\n",
       "      <td>2021.0</td>\n",
       "      <td>Port Canaveral</td>\n",
       "      <td>A Shortfall of Gravitas</td>\n",
       "    </tr>\n",
       "    <tr>\n",
       "      <th>4</th>\n",
       "      <td>Tug</td>\n",
       "      <td>202302.0</td>\n",
       "      <td>1974.0</td>\n",
       "      <td>Port of Los Angeles</td>\n",
       "      <td>Betty R Gambarella</td>\n",
       "    </tr>\n",
       "    <tr>\n",
       "      <th>5</th>\n",
       "      <td>Tug</td>\n",
       "      <td>273063.0</td>\n",
       "      <td>1999.0</td>\n",
       "      <td>Port Canaveral</td>\n",
       "      <td>Elsbeth III</td>\n",
       "    </tr>\n",
       "    <tr>\n",
       "      <th>6</th>\n",
       "      <td>High Speed Craft</td>\n",
       "      <td>449964.0</td>\n",
       "      <td>2014.0</td>\n",
       "      <td>Port Canaveral</td>\n",
       "      <td>GO Ms Chief</td>\n",
       "    </tr>\n",
       "    <tr>\n",
       "      <th>7</th>\n",
       "      <td>High Speed Craft</td>\n",
       "      <td>449964.0</td>\n",
       "      <td>2015.0</td>\n",
       "      <td>Port Canaveral</td>\n",
       "      <td>GO Ms Tree</td>\n",
       "    </tr>\n",
       "    <tr>\n",
       "      <th>8</th>\n",
       "      <td>Cargo</td>\n",
       "      <td>451778.0</td>\n",
       "      <td>2009.0</td>\n",
       "      <td>Port Canaveral</td>\n",
       "      <td>Shannon</td>\n",
       "    </tr>\n",
       "    <tr>\n",
       "      <th>9</th>\n",
       "      <td>Cargo</td>\n",
       "      <td>502999.0</td>\n",
       "      <td>2007.0</td>\n",
       "      <td>Port Canaveral</td>\n",
       "      <td>GO Pursuit</td>\n",
       "    </tr>\n",
       "  </tbody>\n",
       "</table>\n",
       "</div>"
      ],
      "text/plain": [
       "               type  mass_kg  year_built            home_port  \\\n",
       "0               Tug 266712.0      1976.0  Port of Los Angeles   \n",
       "1             Cargo 916838.1         NaN  Port of Los Angeles   \n",
       "2             Cargo 916838.1         NaN  Port of Los Angeles   \n",
       "3             Barge 916838.1      2021.0       Port Canaveral   \n",
       "4               Tug 202302.0      1974.0  Port of Los Angeles   \n",
       "5               Tug 273063.0      1999.0       Port Canaveral   \n",
       "6  High Speed Craft 449964.0      2014.0       Port Canaveral   \n",
       "7  High Speed Craft 449964.0      2015.0       Port Canaveral   \n",
       "8             Cargo 451778.0      2009.0       Port Canaveral   \n",
       "9             Cargo 502999.0      2007.0       Port Canaveral   \n",
       "\n",
       "                      name  \n",
       "0        American Champion  \n",
       "1        American Islander  \n",
       "2          American Spirit  \n",
       "3  A Shortfall of Gravitas  \n",
       "4       Betty R Gambarella  \n",
       "5              Elsbeth III  \n",
       "6              GO Ms Chief  \n",
       "7               GO Ms Tree  \n",
       "8                  Shannon  \n",
       "9               GO Pursuit  "
      ]
     },
     "execution_count": 114,
     "metadata": {},
     "output_type": "execute_result"
    }
   ],
   "source": [
    "mass_kg_mean = df['mass_kg'].mean()\n",
    "df_fill_mean = df.fillna({'mass_kg': mass_kg_mean})\n",
    "print(\"Primeras filas con 'mass_kg' completadas con el promedio:\")\n",
    "\n",
    "# Ajustar la visualización temporalmente de decimales\n",
    "pd.options.display.float_format = '{:.1f}'.format \n",
    "df_fill_mean.head(10)"
   ]
  },
  {
   "cell_type": "markdown",
   "metadata": {},
   "source": [
    "#### **Operaciones de strings:**\n",
    "Realice las siguientes operaciones en el DataFrame df:"
   ]
  },
  {
   "cell_type": "markdown",
   "metadata": {},
   "source": [
    "##### **De la columna home_port extraiga la primera palabra de cada dato y muestre los resultados.**"
   ]
  },
  {
   "cell_type": "code",
   "execution_count": 115,
   "metadata": {},
   "outputs": [
    {
     "name": "stdout",
     "output_type": "stream",
     "text": [
      "Primera palabra de cada dato en 'home_port':\n"
     ]
    },
    {
     "data": {
      "text/plain": [
       "0     Port\n",
       "1     Port\n",
       "2     Port\n",
       "3     Port\n",
       "4     Port\n",
       "5     Port\n",
       "6     Port\n",
       "7     Port\n",
       "8     Port\n",
       "9     Port\n",
       "10    Port\n",
       "11    Port\n",
       "12    Port\n",
       "13    Fort\n",
       "14    Port\n",
       "15    Port\n",
       "16    Port\n",
       "17    Port\n",
       "18    Port\n",
       "19    Port\n",
       "20    Port\n",
       "21    Port\n",
       "22    Port\n",
       "23    Port\n",
       "24    Port\n",
       "25    Port\n",
       "26    Port\n",
       "27    Port\n",
       "28    Port\n",
       "Name: home_port, dtype: object"
      ]
     },
     "execution_count": 115,
     "metadata": {},
     "output_type": "execute_result"
    }
   ],
   "source": [
    "# Se utiliza str.split() para dividir los valores por espacios y obtener la primera palabra\n",
    "first_word_home_port = df['home_port'].str.split().str[0]\n",
    "print(\"Primera palabra de cada dato en 'home_port':\")\n",
    "first_word_home_port.head(size_rows)"
   ]
  },
  {
   "cell_type": "markdown",
   "metadata": {},
   "source": [
    "##### **Determine cuántos datos comienzan con la palabra Port y cuántos datos comienzan con una palabra diferente, ¿Cuáles son las palabras diferentes?**"
   ]
  },
  {
   "cell_type": "code",
   "execution_count": 116,
   "metadata": {},
   "outputs": [
    {
     "name": "stdout",
     "output_type": "stream",
     "text": [
      "Cantidad de datos que comienzan con 'Port': 28\n",
      "Palabras diferentes al inicio: ['Fort']\n"
     ]
    }
   ],
   "source": [
    "# Con str.startswith(), se identificó cuántos puertos inician con \"Port\" y cuántos con otras palabras,\n",
    "# lo que permite categorizar los nombres de forma eficiente.\n",
    "starts_with_port = first_word_home_port.str.startswith('Port').sum()\n",
    "unique_different_starts = first_word_home_port.loc[~first_word_home_port.str.startswith('Port')].unique()\n",
    "\n",
    "print(f\"Cantidad de datos que comienzan con 'Port': {starts_with_port}\")\n",
    "print(f\"Palabras diferentes al inicio: {unique_different_starts}\")"
   ]
  },
  {
   "cell_type": "markdown",
   "metadata": {},
   "source": [
    "##### **Filtre el DataFrame con los datos que en la columna name contengan en el string la palabra “GO” y muestre los resultados.**"
   ]
  },
  {
   "cell_type": "code",
   "execution_count": 117,
   "metadata": {},
   "outputs": [
    {
     "name": "stdout",
     "output_type": "stream",
     "text": [
      "Filas que contienen 'GO' en la columna 'name':\n"
     ]
    },
    {
     "data": {
      "text/html": [
       "<div>\n",
       "<style scoped>\n",
       "    .dataframe tbody tr th:only-of-type {\n",
       "        vertical-align: middle;\n",
       "    }\n",
       "\n",
       "    .dataframe tbody tr th {\n",
       "        vertical-align: top;\n",
       "    }\n",
       "\n",
       "    .dataframe thead th {\n",
       "        text-align: right;\n",
       "    }\n",
       "</style>\n",
       "<table border=\"1\" class=\"dataframe\">\n",
       "  <thead>\n",
       "    <tr style=\"text-align: right;\">\n",
       "      <th></th>\n",
       "      <th>type</th>\n",
       "      <th>mass_kg</th>\n",
       "      <th>year_built</th>\n",
       "      <th>home_port</th>\n",
       "      <th>name</th>\n",
       "    </tr>\n",
       "  </thead>\n",
       "  <tbody>\n",
       "    <tr>\n",
       "      <th>6</th>\n",
       "      <td>High Speed Craft</td>\n",
       "      <td>449964.0</td>\n",
       "      <td>2014.0</td>\n",
       "      <td>Port Canaveral</td>\n",
       "      <td>GO Ms Chief</td>\n",
       "    </tr>\n",
       "    <tr>\n",
       "      <th>7</th>\n",
       "      <td>High Speed Craft</td>\n",
       "      <td>449964.0</td>\n",
       "      <td>2015.0</td>\n",
       "      <td>Port Canaveral</td>\n",
       "      <td>GO Ms Tree</td>\n",
       "    </tr>\n",
       "    <tr>\n",
       "      <th>9</th>\n",
       "      <td>Cargo</td>\n",
       "      <td>502999.0</td>\n",
       "      <td>2007.0</td>\n",
       "      <td>Port Canaveral</td>\n",
       "      <td>GO Pursuit</td>\n",
       "    </tr>\n",
       "    <tr>\n",
       "      <th>10</th>\n",
       "      <td>Cargo</td>\n",
       "      <td>NaN</td>\n",
       "      <td>2014.0</td>\n",
       "      <td>Port Canaveral</td>\n",
       "      <td>GO Quest</td>\n",
       "    </tr>\n",
       "  </tbody>\n",
       "</table>\n",
       "</div>"
      ],
      "text/plain": [
       "                type  mass_kg  year_built       home_port         name\n",
       "6   High Speed Craft 449964.0      2014.0  Port Canaveral  GO Ms Chief\n",
       "7   High Speed Craft 449964.0      2015.0  Port Canaveral   GO Ms Tree\n",
       "9              Cargo 502999.0      2007.0  Port Canaveral   GO Pursuit\n",
       "10             Cargo      NaN      2014.0  Port Canaveral     GO Quest"
      ]
     },
     "execution_count": 117,
     "metadata": {},
     "output_type": "execute_result"
    }
   ],
   "source": [
    "# Utilizamos str.contains() para buscar cadenas que contienen \"GO\"\n",
    "# El parametro \"case\" lo asignamos en True para que sea sensible a mayúsculas y minúsculas.\n",
    "filtered_go = df[df['name'].str.contains('GO', case=True, na=False)]\n",
    "print(\"Filas que contienen 'GO' en la columna 'name':\")\n",
    "filtered_go.head(size_rows)\n"
   ]
  },
  {
   "cell_type": "markdown",
   "metadata": {},
   "source": [
    "##### **Convierta todos los strings de la columna name en palabras con todas sus letras mayúsculas y muestre los resultados.**"
   ]
  },
  {
   "cell_type": "code",
   "execution_count": 118,
   "metadata": {},
   "outputs": [
    {
     "name": "stdout",
     "output_type": "stream",
     "text": [
      "Columna 'name' en mayúsculas:\n"
     ]
    },
    {
     "data": {
      "text/plain": [
       "0                AMERICAN CHAMPION\n",
       "1                AMERICAN ISLANDER\n",
       "2                  AMERICAN SPIRIT\n",
       "3          A SHORTFALL OF GRAVITAS\n",
       "4               BETTY R GAMBARELLA\n",
       "5                      ELSBETH III\n",
       "6                      GO MS CHIEF\n",
       "7                       GO MS TREE\n",
       "8                          SHANNON\n",
       "9                       GO PURSUIT\n",
       "10                        GO QUEST\n",
       "11                           MEGAN\n",
       "12                            HAWK\n",
       "13                       HOLLYWOOD\n",
       "14    JUST READ THE INSTRUCTIONS 1\n",
       "15    JUST READ THE INSTRUCTIONS 2\n",
       "16                         KELLY C\n",
       "17                       NRC QUEST\n",
       "18      OF COURSE I STILL LOVE YOU\n",
       "19                PACIFIC FREEEDOM\n",
       "20                 PACIFIC WARRIOR\n",
       "21                          RACHEL\n",
       "22                    FINN FALGOUT\n",
       "23                     LAUREN FOSS\n",
       "24                 SHELIA BORDELON\n",
       "25                       MR. JONAH\n",
       "26                   HOS BRIARWOOD\n",
       "27                            DOUG\n",
       "28                             BOB\n",
       "Name: name, dtype: object"
      ]
     },
     "execution_count": 118,
     "metadata": {},
     "output_type": "execute_result"
    }
   ],
   "source": [
    "# Convertimos los nombres a mayúsculas con str.upper().\n",
    "name_upper = df['name'].str.upper()\n",
    "print(\"Columna 'name' en mayúsculas:\")\n",
    "name_upper.head(size_rows)"
   ]
  },
  {
   "cell_type": "markdown",
   "metadata": {},
   "source": [
    "##### **Convierta todos los strings de la columna type en palabras con todas sus letras minúsculas y muestre los resultados.**"
   ]
  },
  {
   "cell_type": "code",
   "execution_count": 119,
   "metadata": {},
   "outputs": [
    {
     "name": "stdout",
     "output_type": "stream",
     "text": [
      "Columna 'type' en minúsculas:\n",
      "0                  tug\n",
      "1                cargo\n",
      "2                cargo\n",
      "3                barge\n",
      "4                  tug\n",
      "5                  tug\n",
      "6     high speed craft\n",
      "7     high speed craft\n",
      "8                cargo\n",
      "9                cargo\n",
      "10               cargo\n",
      "11               cargo\n",
      "12                 tug\n",
      "13                 tug\n",
      "14               barge\n",
      "15               barge\n",
      "16                 tug\n",
      "17               cargo\n",
      "18               barge\n",
      "19                 tug\n",
      "20                 tug\n",
      "21                 tug\n",
      "22                 tug\n",
      "23                 tug\n",
      "24               cargo\n",
      "25                 tug\n",
      "26               cargo\n",
      "27               cargo\n",
      "28               cargo\n",
      "Name: type, dtype: object\n"
     ]
    }
   ],
   "source": [
    "# Convertimos los tipos a minúsculas con str.lower().\n",
    "type_lower = df['type'].str.lower()\n",
    "print(\"Columna 'type' en minúsculas:\")\n",
    "print(type_lower.head(size_rows))"
   ]
  },
  {
   "cell_type": "markdown",
   "metadata": {},
   "source": [
    "##### **Divida todos los strings de la columna home_port por el espacio en blanco y muestre los resultados.**"
   ]
  },
  {
   "cell_type": "code",
   "execution_count": 120,
   "metadata": {},
   "outputs": [
    {
     "name": "stdout",
     "output_type": "stream",
     "text": [
      "Columna 'home_port' dividida por espacios:\n"
     ]
    },
    {
     "data": {
      "text/plain": [
       "0     [Port, of, Los, Angeles]\n",
       "1     [Port, of, Los, Angeles]\n",
       "2     [Port, of, Los, Angeles]\n",
       "3            [Port, Canaveral]\n",
       "4     [Port, of, Los, Angeles]\n",
       "5            [Port, Canaveral]\n",
       "6            [Port, Canaveral]\n",
       "7            [Port, Canaveral]\n",
       "8            [Port, Canaveral]\n",
       "9            [Port, Canaveral]\n",
       "10           [Port, Canaveral]\n",
       "11           [Port, Canaveral]\n",
       "12           [Port, Canaveral]\n",
       "13          [Fort, Lauderdale]\n",
       "14           [Port, Canaveral]\n",
       "15           [Port, Canaveral]\n",
       "16    [Port, of, Los, Angeles]\n",
       "17    [Port, of, Los, Angeles]\n",
       "18    [Port, of, Los, Angeles]\n",
       "19    [Port, of, Los, Angeles]\n",
       "20    [Port, of, Los, Angeles]\n",
       "21           [Port, Canaveral]\n",
       "22           [Port, Canaveral]\n",
       "23           [Port, Canaveral]\n",
       "24           [Port, Canaveral]\n",
       "25           [Port, Canaveral]\n",
       "26           [Port, Canaveral]\n",
       "27           [Port, Canaveral]\n",
       "28           [Port, Canaveral]\n",
       "Name: home_port, dtype: object"
      ]
     },
     "execution_count": 120,
     "metadata": {},
     "output_type": "execute_result"
    }
   ],
   "source": [
    "# Con str.split(), se separaron las palabras por espacios blancos.\n",
    "# si no se pasa un argumento a str.split(), se usará cualquier\n",
    "# espacio en blanco (como espacios simples, múltiples espacios, tabulaciones \\t, o saltos de línea \\n)\n",
    "# como delimitador, en este caso se especifica espacio en blanco simple.\n",
    "home_port_split = df['home_port'].str.split(\" \")\n",
    "print(\"Columna 'home_port' dividida por espacios:\")\n",
    "home_port_split.head(size_rows)"
   ]
  },
  {
   "cell_type": "markdown",
   "metadata": {},
   "source": [
    "##### **Reemplace todas las palabras ‘Port’ que se encuentran en la columna home_port por la abreviación ‘P.’ y muestre los resultados.**"
   ]
  },
  {
   "cell_type": "code",
   "execution_count": 121,
   "metadata": {},
   "outputs": [
    {
     "name": "stdout",
     "output_type": "stream",
     "text": [
      "Columna 'home_port' con 'Port' reemplazado por 'P.':\n",
      "0    P. of Los Angeles\n",
      "1    P. of Los Angeles\n",
      "2    P. of Los Angeles\n",
      "3         P. Canaveral\n",
      "4    P. of Los Angeles\n",
      "5         P. Canaveral\n",
      "6         P. Canaveral\n",
      "7         P. Canaveral\n",
      "8         P. Canaveral\n",
      "9         P. Canaveral\n",
      "Name: home_port, dtype: object\n"
     ]
    }
   ],
   "source": [
    "# Usamos str.replace() para abreviar \"Port\" como \"P.\"\n",
    "home_port_abbr = df['home_port'].str.replace('Port', 'P.', case=False, regex=False)\n",
    "print(\"Columna 'home_port' con 'Port' reemplazado por 'P.':\")\n",
    "print(home_port_abbr.head(10))"
   ]
  },
  {
   "cell_type": "markdown",
   "metadata": {},
   "source": [
    "##### **Comente todos los procesos realizados y concluya con las posibilidades de uso de estas herramientas en su campo de acción**\n",
    "\n",
    "El uso de operaciones con strings en pandas permite manipular y transformar datos textuales de manera eficiente. Estas herramientas son esenciales para tareas como la estandarización y normalización de datos, la extracción de patrones, el reemplazo de valores y la gestión precisa de información textual, facilitando así su análisis y procesamiento.\n",
    "\n",
    "En mi área de trabajo, la normalización y estandarización de datos provenientes de diversas APIs es una práctica indispensable para garantizar la consistencia en los procesos de integración."
   ]
  },
  {
   "cell_type": "markdown",
   "metadata": {},
   "source": [
    "### **Ejercicio 3: Agregación, unión y concatenación de DataFrames**\n",
    "Para este ejercicio, cargue en la variable df el conjunto de datos que se presentan en el archivo CSV, Anexo 1 - Student Weight Status.csv. Tenga en cuenta el tipo de separador y los encabezados de las columnas."
   ]
  },
  {
   "cell_type": "code",
   "execution_count": 122,
   "metadata": {},
   "outputs": [
    {
     "name": "stdout",
     "output_type": "stream",
     "text": [
      "Datos cargados exitosamente. Primeras filas del DataFrame:\n"
     ]
    },
    {
     "data": {
      "text/html": [
       "<div>\n",
       "<style scoped>\n",
       "    .dataframe tbody tr th:only-of-type {\n",
       "        vertical-align: middle;\n",
       "    }\n",
       "\n",
       "    .dataframe tbody tr th {\n",
       "        vertical-align: top;\n",
       "    }\n",
       "\n",
       "    .dataframe thead th {\n",
       "        text-align: right;\n",
       "    }\n",
       "</style>\n",
       "<table border=\"1\" class=\"dataframe\">\n",
       "  <thead>\n",
       "    <tr style=\"text-align: right;\">\n",
       "      <th></th>\n",
       "      <th>LOCATION CODE</th>\n",
       "      <th>COUNTY</th>\n",
       "      <th>AREA NAME</th>\n",
       "      <th>REGION</th>\n",
       "      <th>SCHOOL YEARS</th>\n",
       "      <th>NO. OVERWEIGHT</th>\n",
       "      <th>PCT OVERWEIGHT</th>\n",
       "      <th>NO. OBESE</th>\n",
       "      <th>PCT OBESE</th>\n",
       "      <th>NO. OVERWEIGHT OR OBESE</th>\n",
       "      <th>PCT OVERWEIGHT OR OBESE</th>\n",
       "      <th>GRADE LEVEL</th>\n",
       "      <th>AREA TYPE</th>\n",
       "      <th>STREET ADDRESS</th>\n",
       "      <th>CITY</th>\n",
       "      <th>STATE</th>\n",
       "      <th>ZIP CODE</th>\n",
       "      <th>LATITUDE</th>\n",
       "      <th>LONGITUDE</th>\n",
       "      <th>Location 1</th>\n",
       "    </tr>\n",
       "  </thead>\n",
       "  <tbody>\n",
       "    <tr>\n",
       "      <th>0</th>\n",
       "      <td>4</td>\n",
       "      <td>CATTARAUGUS</td>\n",
       "      <td>CATTARAUGUS</td>\n",
       "      <td>WESTERN NEW YORK</td>\n",
       "      <td>2010-2012</td>\n",
       "      <td>575.0</td>\n",
       "      <td>18.4</td>\n",
       "      <td>565.0</td>\n",
       "      <td>18.1</td>\n",
       "      <td>1140.0</td>\n",
       "      <td>36.5</td>\n",
       "      <td>ELEMENTARY</td>\n",
       "      <td>COUNTY</td>\n",
       "      <td>NaN</td>\n",
       "      <td>NaN</td>\n",
       "      <td>NaN</td>\n",
       "      <td>NaN</td>\n",
       "      <td>NaN</td>\n",
       "      <td>NaN</td>\n",
       "      <td>NaN</td>\n",
       "    </tr>\n",
       "    <tr>\n",
       "      <th>1</th>\n",
       "      <td>4</td>\n",
       "      <td>CATTARAUGUS</td>\n",
       "      <td>CATTARAUGUS</td>\n",
       "      <td>WESTERN NEW YORK</td>\n",
       "      <td>2010-2012</td>\n",
       "      <td>380.0</td>\n",
       "      <td>19.4</td>\n",
       "      <td>416.0</td>\n",
       "      <td>21.3</td>\n",
       "      <td>796.0</td>\n",
       "      <td>40.7</td>\n",
       "      <td>MIDDLE/HIGH</td>\n",
       "      <td>COUNTY</td>\n",
       "      <td>NaN</td>\n",
       "      <td>NaN</td>\n",
       "      <td>NaN</td>\n",
       "      <td>NaN</td>\n",
       "      <td>NaN</td>\n",
       "      <td>NaN</td>\n",
       "      <td>NaN</td>\n",
       "    </tr>\n",
       "    <tr>\n",
       "      <th>2</th>\n",
       "      <td>4</td>\n",
       "      <td>CATTARAUGUS</td>\n",
       "      <td>CATTARAUGUS</td>\n",
       "      <td>WESTERN NEW YORK</td>\n",
       "      <td>2012-2014</td>\n",
       "      <td>873.0</td>\n",
       "      <td>17.2</td>\n",
       "      <td>994.0</td>\n",
       "      <td>19.6</td>\n",
       "      <td>1867.0</td>\n",
       "      <td>36.9</td>\n",
       "      <td>DISTRICT TOTAL</td>\n",
       "      <td>COUNTY</td>\n",
       "      <td>NaN</td>\n",
       "      <td>NaN</td>\n",
       "      <td>NaN</td>\n",
       "      <td>NaN</td>\n",
       "      <td>NaN</td>\n",
       "      <td>NaN</td>\n",
       "      <td>NaN</td>\n",
       "    </tr>\n",
       "    <tr>\n",
       "      <th>3</th>\n",
       "      <td>4</td>\n",
       "      <td>CATTARAUGUS</td>\n",
       "      <td>CATTARAUGUS</td>\n",
       "      <td>WESTERN NEW YORK</td>\n",
       "      <td>2012-2014</td>\n",
       "      <td>551.0</td>\n",
       "      <td>17.2</td>\n",
       "      <td>571.0</td>\n",
       "      <td>17.8</td>\n",
       "      <td>1122.0</td>\n",
       "      <td>35.0</td>\n",
       "      <td>ELEMENTARY</td>\n",
       "      <td>COUNTY</td>\n",
       "      <td>NaN</td>\n",
       "      <td>NaN</td>\n",
       "      <td>NaN</td>\n",
       "      <td>NaN</td>\n",
       "      <td>NaN</td>\n",
       "      <td>NaN</td>\n",
       "      <td>NaN</td>\n",
       "    </tr>\n",
       "    <tr>\n",
       "      <th>4</th>\n",
       "      <td>4</td>\n",
       "      <td>CATTARAUGUS</td>\n",
       "      <td>CATTARAUGUS</td>\n",
       "      <td>WESTERN NEW YORK</td>\n",
       "      <td>2012-2014</td>\n",
       "      <td>292.0</td>\n",
       "      <td>16.0</td>\n",
       "      <td>413.0</td>\n",
       "      <td>22.6</td>\n",
       "      <td>705.0</td>\n",
       "      <td>38.6</td>\n",
       "      <td>MIDDLE/HIGH</td>\n",
       "      <td>COUNTY</td>\n",
       "      <td>NaN</td>\n",
       "      <td>NaN</td>\n",
       "      <td>NaN</td>\n",
       "      <td>NaN</td>\n",
       "      <td>NaN</td>\n",
       "      <td>NaN</td>\n",
       "      <td>NaN</td>\n",
       "    </tr>\n",
       "  </tbody>\n",
       "</table>\n",
       "</div>"
      ],
      "text/plain": [
       "   LOCATION CODE       COUNTY    AREA NAME            REGION SCHOOL YEARS  \\\n",
       "0              4  CATTARAUGUS  CATTARAUGUS  WESTERN NEW YORK    2010-2012   \n",
       "1              4  CATTARAUGUS  CATTARAUGUS  WESTERN NEW YORK    2010-2012   \n",
       "2              4  CATTARAUGUS  CATTARAUGUS  WESTERN NEW YORK    2012-2014   \n",
       "3              4  CATTARAUGUS  CATTARAUGUS  WESTERN NEW YORK    2012-2014   \n",
       "4              4  CATTARAUGUS  CATTARAUGUS  WESTERN NEW YORK    2012-2014   \n",
       "\n",
       "   NO. OVERWEIGHT  PCT OVERWEIGHT  NO. OBESE  PCT OBESE  \\\n",
       "0           575.0            18.4      565.0       18.1   \n",
       "1           380.0            19.4      416.0       21.3   \n",
       "2           873.0            17.2      994.0       19.6   \n",
       "3           551.0            17.2      571.0       17.8   \n",
       "4           292.0            16.0      413.0       22.6   \n",
       "\n",
       "   NO. OVERWEIGHT OR OBESE  PCT OVERWEIGHT OR OBESE     GRADE LEVEL AREA TYPE  \\\n",
       "0                   1140.0                     36.5      ELEMENTARY    COUNTY   \n",
       "1                    796.0                     40.7     MIDDLE/HIGH    COUNTY   \n",
       "2                   1867.0                     36.9  DISTRICT TOTAL    COUNTY   \n",
       "3                   1122.0                     35.0      ELEMENTARY    COUNTY   \n",
       "4                    705.0                     38.6     MIDDLE/HIGH    COUNTY   \n",
       "\n",
       "  STREET ADDRESS CITY STATE  ZIP CODE  LATITUDE  LONGITUDE Location 1  \n",
       "0            NaN  NaN   NaN       NaN       NaN        NaN        NaN  \n",
       "1            NaN  NaN   NaN       NaN       NaN        NaN        NaN  \n",
       "2            NaN  NaN   NaN       NaN       NaN        NaN        NaN  \n",
       "3            NaN  NaN   NaN       NaN       NaN        NaN        NaN  \n",
       "4            NaN  NaN   NaN       NaN       NaN        NaN        NaN  "
      ]
     },
     "execution_count": 122,
     "metadata": {},
     "output_type": "execute_result"
    }
   ],
   "source": [
    "import pandas as pd\n",
    "\n",
    "# Ruta fichero\n",
    "file_path = \"Anexo 1 - Student Weight Status.csv\"\n",
    "\n",
    "# Carga del DataFrame con manejo de errores.\n",
    "try:\n",
    "    df = pd.read_csv(file_path, sep=',', header=0)  # El separador es la coma (`,`)\n",
    "    print(\"Datos cargados exitosamente. Primeras filas del DataFrame:\")\n",
    "    # print(df.head())\n",
    "except FileNotFoundError:\n",
    "    print(f\"Error: No se encontró el archivo en la ruta {file_path}. Asegúrate de que el archivo esté en la ruta asignada.\")\n",
    "except pd.errors.ParserError as e:\n",
    "    print(f\"Error de parseo: {e}. Verifica que el separador sea el correcto y que el archivo tenga el formato esperado.\")\n",
    "\n",
    "df.head(5)"
   ]
  },
  {
   "cell_type": "markdown",
   "metadata": {},
   "source": [
    "#### **Fusionando datos:**\n",
    "##### **Cree un DataFrame p1 con los datos del 0 al 1 con las columnas 'area_name' y 'county' de df.**"
   ]
  },
  {
   "cell_type": "code",
   "execution_count": 123,
   "metadata": {},
   "outputs": [
    {
     "name": "stdout",
     "output_type": "stream",
     "text": [
      "DataFrame p1:\n"
     ]
    },
    {
     "data": {
      "text/html": [
       "<div>\n",
       "<style scoped>\n",
       "    .dataframe tbody tr th:only-of-type {\n",
       "        vertical-align: middle;\n",
       "    }\n",
       "\n",
       "    .dataframe tbody tr th {\n",
       "        vertical-align: top;\n",
       "    }\n",
       "\n",
       "    .dataframe thead th {\n",
       "        text-align: right;\n",
       "    }\n",
       "</style>\n",
       "<table border=\"1\" class=\"dataframe\">\n",
       "  <thead>\n",
       "    <tr style=\"text-align: right;\">\n",
       "      <th></th>\n",
       "      <th>AREA NAME</th>\n",
       "      <th>COUNTY</th>\n",
       "    </tr>\n",
       "  </thead>\n",
       "  <tbody>\n",
       "    <tr>\n",
       "      <th>0</th>\n",
       "      <td>CATTARAUGUS</td>\n",
       "      <td>CATTARAUGUS</td>\n",
       "    </tr>\n",
       "    <tr>\n",
       "      <th>1</th>\n",
       "      <td>CATTARAUGUS</td>\n",
       "      <td>CATTARAUGUS</td>\n",
       "    </tr>\n",
       "  </tbody>\n",
       "</table>\n",
       "</div>"
      ],
      "text/plain": [
       "     AREA NAME       COUNTY\n",
       "0  CATTARAUGUS  CATTARAUGUS\n",
       "1  CATTARAUGUS  CATTARAUGUS"
      ]
     },
     "execution_count": 123,
     "metadata": {},
     "output_type": "execute_result"
    }
   ],
   "source": [
    "# Utilizamos .loc[] para seleccionar las filas y columnas a extraer.\n",
    "p1 = df.loc[0:1, ['AREA NAME', 'COUNTY']]\n",
    "print(\"DataFrame p1:\")\n",
    "p1.head()"
   ]
  },
  {
   "cell_type": "markdown",
   "metadata": {},
   "source": [
    "##### **Creen un DataFrame p2 con los datos del 2 al 4 con las columnas 'area_name' y 'county' de df.**"
   ]
  },
  {
   "cell_type": "code",
   "execution_count": 124,
   "metadata": {},
   "outputs": [
    {
     "name": "stdout",
     "output_type": "stream",
     "text": [
      "DataFrame p2:\n"
     ]
    },
    {
     "data": {
      "text/html": [
       "<div>\n",
       "<style scoped>\n",
       "    .dataframe tbody tr th:only-of-type {\n",
       "        vertical-align: middle;\n",
       "    }\n",
       "\n",
       "    .dataframe tbody tr th {\n",
       "        vertical-align: top;\n",
       "    }\n",
       "\n",
       "    .dataframe thead th {\n",
       "        text-align: right;\n",
       "    }\n",
       "</style>\n",
       "<table border=\"1\" class=\"dataframe\">\n",
       "  <thead>\n",
       "    <tr style=\"text-align: right;\">\n",
       "      <th></th>\n",
       "      <th>AREA NAME</th>\n",
       "      <th>COUNTY</th>\n",
       "    </tr>\n",
       "  </thead>\n",
       "  <tbody>\n",
       "    <tr>\n",
       "      <th>2</th>\n",
       "      <td>CATTARAUGUS</td>\n",
       "      <td>CATTARAUGUS</td>\n",
       "    </tr>\n",
       "    <tr>\n",
       "      <th>3</th>\n",
       "      <td>CATTARAUGUS</td>\n",
       "      <td>CATTARAUGUS</td>\n",
       "    </tr>\n",
       "    <tr>\n",
       "      <th>4</th>\n",
       "      <td>CATTARAUGUS</td>\n",
       "      <td>CATTARAUGUS</td>\n",
       "    </tr>\n",
       "  </tbody>\n",
       "</table>\n",
       "</div>"
      ],
      "text/plain": [
       "     AREA NAME       COUNTY\n",
       "2  CATTARAUGUS  CATTARAUGUS\n",
       "3  CATTARAUGUS  CATTARAUGUS\n",
       "4  CATTARAUGUS  CATTARAUGUS"
      ]
     },
     "execution_count": 124,
     "metadata": {},
     "output_type": "execute_result"
    }
   ],
   "source": [
    "# Utilizamos .loc[] para seleccionar las filas y columnas a extraer.\n",
    "p2 = df.loc[2:4, ['AREA NAME', 'COUNTY']]\n",
    "print(\"DataFrame p2:\")\n",
    "p2.head()"
   ]
  },
  {
   "cell_type": "markdown",
   "metadata": {},
   "source": [
    "##### **Concatene p1 y p2 y muestre los resultados.**"
   ]
  },
  {
   "cell_type": "code",
   "execution_count": 125,
   "metadata": {},
   "outputs": [
    {
     "name": "stdout",
     "output_type": "stream",
     "text": [
      "Concatenación simple de p1 y p2:\n"
     ]
    },
    {
     "data": {
      "text/html": [
       "<div>\n",
       "<style scoped>\n",
       "    .dataframe tbody tr th:only-of-type {\n",
       "        vertical-align: middle;\n",
       "    }\n",
       "\n",
       "    .dataframe tbody tr th {\n",
       "        vertical-align: top;\n",
       "    }\n",
       "\n",
       "    .dataframe thead th {\n",
       "        text-align: right;\n",
       "    }\n",
       "</style>\n",
       "<table border=\"1\" class=\"dataframe\">\n",
       "  <thead>\n",
       "    <tr style=\"text-align: right;\">\n",
       "      <th></th>\n",
       "      <th>AREA NAME</th>\n",
       "      <th>COUNTY</th>\n",
       "    </tr>\n",
       "  </thead>\n",
       "  <tbody>\n",
       "    <tr>\n",
       "      <th>0</th>\n",
       "      <td>CATTARAUGUS</td>\n",
       "      <td>CATTARAUGUS</td>\n",
       "    </tr>\n",
       "    <tr>\n",
       "      <th>1</th>\n",
       "      <td>CATTARAUGUS</td>\n",
       "      <td>CATTARAUGUS</td>\n",
       "    </tr>\n",
       "    <tr>\n",
       "      <th>2</th>\n",
       "      <td>CATTARAUGUS</td>\n",
       "      <td>CATTARAUGUS</td>\n",
       "    </tr>\n",
       "    <tr>\n",
       "      <th>3</th>\n",
       "      <td>CATTARAUGUS</td>\n",
       "      <td>CATTARAUGUS</td>\n",
       "    </tr>\n",
       "    <tr>\n",
       "      <th>4</th>\n",
       "      <td>CATTARAUGUS</td>\n",
       "      <td>CATTARAUGUS</td>\n",
       "    </tr>\n",
       "  </tbody>\n",
       "</table>\n",
       "</div>"
      ],
      "text/plain": [
       "     AREA NAME       COUNTY\n",
       "0  CATTARAUGUS  CATTARAUGUS\n",
       "1  CATTARAUGUS  CATTARAUGUS\n",
       "2  CATTARAUGUS  CATTARAUGUS\n",
       "3  CATTARAUGUS  CATTARAUGUS\n",
       "4  CATTARAUGUS  CATTARAUGUS"
      ]
     },
     "execution_count": 125,
     "metadata": {},
     "output_type": "execute_result"
    }
   ],
   "source": [
    "# Usamos pd.concat() para unir los dos DataFrames sin llaves.\n",
    "# Esto genera un nuevo DataFrame con las filas de p1 seguidas por las de p2.\n",
    "concatenated_simple = pd.concat([p1, p2])\n",
    "print(\"Concatenación simple de p1 y p2:\")\n",
    "concatenated_simple.head()"
   ]
  },
  {
   "cell_type": "markdown",
   "metadata": {},
   "source": [
    "##### **Concatene p1 y p2 identificando las asignaciones por las llaves ‘p1’ y ‘p2’ y muestre los resultados y asígnelos a la variable concatened. Comente las diferencias con el DataFrame anterior y mencione desde su punto de vista las posibles utilidades de esta herramienta.**"
   ]
  },
  {
   "cell_type": "code",
   "execution_count": 126,
   "metadata": {},
   "outputs": [
    {
     "name": "stdout",
     "output_type": "stream",
     "text": [
      "Concatenación con llaves 'p1' y 'p2':\n"
     ]
    },
    {
     "data": {
      "text/html": [
       "<div>\n",
       "<style scoped>\n",
       "    .dataframe tbody tr th:only-of-type {\n",
       "        vertical-align: middle;\n",
       "    }\n",
       "\n",
       "    .dataframe tbody tr th {\n",
       "        vertical-align: top;\n",
       "    }\n",
       "\n",
       "    .dataframe thead th {\n",
       "        text-align: right;\n",
       "    }\n",
       "</style>\n",
       "<table border=\"1\" class=\"dataframe\">\n",
       "  <thead>\n",
       "    <tr style=\"text-align: right;\">\n",
       "      <th></th>\n",
       "      <th></th>\n",
       "      <th>AREA NAME</th>\n",
       "      <th>COUNTY</th>\n",
       "    </tr>\n",
       "  </thead>\n",
       "  <tbody>\n",
       "    <tr>\n",
       "      <th rowspan=\"2\" valign=\"top\">p1</th>\n",
       "      <th>0</th>\n",
       "      <td>CATTARAUGUS</td>\n",
       "      <td>CATTARAUGUS</td>\n",
       "    </tr>\n",
       "    <tr>\n",
       "      <th>1</th>\n",
       "      <td>CATTARAUGUS</td>\n",
       "      <td>CATTARAUGUS</td>\n",
       "    </tr>\n",
       "    <tr>\n",
       "      <th rowspan=\"3\" valign=\"top\">p2</th>\n",
       "      <th>2</th>\n",
       "      <td>CATTARAUGUS</td>\n",
       "      <td>CATTARAUGUS</td>\n",
       "    </tr>\n",
       "    <tr>\n",
       "      <th>3</th>\n",
       "      <td>CATTARAUGUS</td>\n",
       "      <td>CATTARAUGUS</td>\n",
       "    </tr>\n",
       "    <tr>\n",
       "      <th>4</th>\n",
       "      <td>CATTARAUGUS</td>\n",
       "      <td>CATTARAUGUS</td>\n",
       "    </tr>\n",
       "  </tbody>\n",
       "</table>\n",
       "</div>"
      ],
      "text/plain": [
       "        AREA NAME       COUNTY\n",
       "p1 0  CATTARAUGUS  CATTARAUGUS\n",
       "   1  CATTARAUGUS  CATTARAUGUS\n",
       "p2 2  CATTARAUGUS  CATTARAUGUS\n",
       "   3  CATTARAUGUS  CATTARAUGUS\n",
       "   4  CATTARAUGUS  CATTARAUGUS"
      ]
     },
     "execution_count": 126,
     "metadata": {},
     "output_type": "execute_result"
    }
   ],
   "source": [
    "# Al concatenar con el parámetro keys=['p1', 'p2'],\n",
    "# las filas se etiquetan con estas llaves. Esto permite identificar qué filas pertenecen a cada DataFrame\n",
    "# original.\n",
    "concatenated_with_keys = pd.concat([p1, p2], keys=['p1', 'p2'])\n",
    "print(\"Concatenación con llaves 'p1' y 'p2':\")\n",
    "concatenated_with_keys.head()"
   ]
  },
  {
   "cell_type": "markdown",
   "metadata": {},
   "source": [
    "La concatenación con llaves es útil cuando se necesita identificar el origen de las filas dentro de un DataFrame combinado. Esto es especialmente relevante en casos donde se trabaja con datos de diferentes fuentes o etapas de procesamiento."
   ]
  },
  {
   "cell_type": "markdown",
   "metadata": {},
   "source": [
    "##### **Desde el DataFrame concatened rescate los datos de p1.**"
   ]
  },
  {
   "cell_type": "code",
   "execution_count": 127,
   "metadata": {},
   "outputs": [
    {
     "name": "stdout",
     "output_type": "stream",
     "text": [
      "Datos de 'p1' rescatados del DataFrame concatenado:\n"
     ]
    },
    {
     "data": {
      "text/html": [
       "<div>\n",
       "<style scoped>\n",
       "    .dataframe tbody tr th:only-of-type {\n",
       "        vertical-align: middle;\n",
       "    }\n",
       "\n",
       "    .dataframe tbody tr th {\n",
       "        vertical-align: top;\n",
       "    }\n",
       "\n",
       "    .dataframe thead th {\n",
       "        text-align: right;\n",
       "    }\n",
       "</style>\n",
       "<table border=\"1\" class=\"dataframe\">\n",
       "  <thead>\n",
       "    <tr style=\"text-align: right;\">\n",
       "      <th></th>\n",
       "      <th>AREA NAME</th>\n",
       "      <th>COUNTY</th>\n",
       "    </tr>\n",
       "  </thead>\n",
       "  <tbody>\n",
       "    <tr>\n",
       "      <th>0</th>\n",
       "      <td>CATTARAUGUS</td>\n",
       "      <td>CATTARAUGUS</td>\n",
       "    </tr>\n",
       "    <tr>\n",
       "      <th>1</th>\n",
       "      <td>CATTARAUGUS</td>\n",
       "      <td>CATTARAUGUS</td>\n",
       "    </tr>\n",
       "  </tbody>\n",
       "</table>\n",
       "</div>"
      ],
      "text/plain": [
       "     AREA NAME       COUNTY\n",
       "0  CATTARAUGUS  CATTARAUGUS\n",
       "1  CATTARAUGUS  CATTARAUGUS"
      ]
     },
     "execution_count": 127,
     "metadata": {},
     "output_type": "execute_result"
    }
   ],
   "source": [
    "# Utilizamos .loc['p1'] sobre el DataFrame concatenado para recuperar únicamente los datos que pertenecen a p1\n",
    "p1_rescued = concatenated_with_keys.loc['p1']\n",
    "print(\"Datos de 'p1' rescatados del DataFrame concatenado:\")\n",
    "p1_rescued.head()"
   ]
  },
  {
   "cell_type": "markdown",
   "metadata": {},
   "source": [
    "##### **Comente los resultados y realice las conclusiones del ejercicio.**"
   ]
  },
  {
   "cell_type": "markdown",
   "metadata": {},
   "source": [
    "- La capacidad de extraer subconjuntos a partir de claves específicas facilita el análisis segmentado y ofrece diversas opciones para el etiquetado de fuentes, etapas del proceso y otros casos similares.\n",
    "- Estas herramientas brindan una manipulación flexible de los datos, resultando especialmente útiles en tareas como la integración de información proveniente de múltiples fuentes, la consolidación de resultados de diferentes etapas de análisis o la preparación de datos para procesos de modelado."
   ]
  },
  {
   "cell_type": "markdown",
   "metadata": {},
   "source": [
    "#### **Operaciones de agregación:**\n",
    "\n",
    "##### **Encuentre el número promedio de estudiantes que son obesos en escuelas de primaria (tipo ‘ELEMENTARY’).**"
   ]
  },
  {
   "cell_type": "code",
   "execution_count": 128,
   "metadata": {},
   "outputs": [
    {
     "name": "stdout",
     "output_type": "stream",
     "text": [
      "Promedio de estudiantes obesos en escuelas de primaria: 275.78676207513416\n"
     ]
    }
   ],
   "source": [
    "# Utilizamos .mean() para calcular el promedio de la columna NO. OBESE filtrando solo las escuelas primarias (GRADE LEVEL == 'ELEMENTARY').\n",
    "avg_obese_elementary = df[df['GRADE LEVEL'] == 'ELEMENTARY']['NO. OBESE'].mean()\n",
    "print(f\"Promedio de estudiantes obesos en escuelas de primaria: {avg_obese_elementary}\")"
   ]
  },
  {
   "cell_type": "markdown",
   "metadata": {},
   "source": [
    "##### **Encuentre el número total de estudiantes de primaria que son obesos.**"
   ]
  },
  {
   "cell_type": "code",
   "execution_count": 129,
   "metadata": {},
   "outputs": [
    {
     "name": "stdout",
     "output_type": "stream",
     "text": [
      "Total de estudiantes obesos en escuelas de primaria: 770824.0\n"
     ]
    }
   ],
   "source": [
    "# Con .sum() obtenemos el total de estudiantes obesos en las escuelas primarias.\n",
    "total_obese_elementary = df[df['GRADE LEVEL'] == 'ELEMENTARY']['NO. OBESE'].sum()\n",
    "print(f\"Total de estudiantes obesos en escuelas de primaria: {total_obese_elementary}\")"
   ]
  },
  {
   "cell_type": "markdown",
   "metadata": {},
   "source": [
    "##### **Encuentre el número máximo de estudiantes obsesos que tiene una escuela.**"
   ]
  },
  {
   "cell_type": "code",
   "execution_count": 130,
   "metadata": {},
   "outputs": [
    {
     "name": "stdout",
     "output_type": "stream",
     "text": [
      "Número máximo de estudiantes obesos en una escuela: 86016.0\n"
     ]
    }
   ],
   "source": [
    "# Usamos .max() Para identificar la escuela con la mayor cantidad de estudiantes obesos.\n",
    "max_obese_students = df['NO. OBESE'].max()\n",
    "print(f\"Número máximo de estudiantes obesos en una escuela: {max_obese_students}\")"
   ]
  },
  {
   "cell_type": "markdown",
   "metadata": {},
   "source": [
    "##### **Encuentre el número mínimo de estudiantes obsesos que tiene una escuela.**"
   ]
  },
  {
   "cell_type": "code",
   "execution_count": 131,
   "metadata": {},
   "outputs": [
    {
     "name": "stdout",
     "output_type": "stream",
     "text": [
      "Número mínimo de estudiantes obesos en una escuela: 5.0\n"
     ]
    }
   ],
   "source": [
    "# Usamos .min() Para identificar la escuela con la menor cantidad de estudiantes obesos.\n",
    "min_obese_students = df['NO. OBESE'].min()\n",
    "print(f\"Número mínimo de estudiantes obesos en una escuela: {min_obese_students}\")"
   ]
  },
  {
   "cell_type": "markdown",
   "metadata": {},
   "source": [
    "##### **Obtenga la desviación estándar del número de estudiantes obsesos en las escuelas.**"
   ]
  },
  {
   "cell_type": "code",
   "execution_count": 132,
   "metadata": {},
   "outputs": [
    {
     "name": "stdout",
     "output_type": "stream",
     "text": [
      "Desviación estándar del número de estudiantes obesos: 2519.8439356637937\n"
     ]
    }
   ],
   "source": [
    "# Utilizamos .std() para medir la dispersión de los valores en la columna NO. OBESE,\n",
    "# lo que nos da una idea de la variabilidad en la cantidad de estudiantes obesos por escuela.\n",
    "std_dev_obese_students = df['NO. OBESE'].std()\n",
    "print(f\"Desviación estándar del número de estudiantes obesos: {std_dev_obese_students}\")"
   ]
  },
  {
   "cell_type": "markdown",
   "metadata": {},
   "source": [
    "##### **Obtenga la cantidad de escuelas de primarias en el condado (county) de DELAWARE.**"
   ]
  },
  {
   "cell_type": "code",
   "execution_count": 133,
   "metadata": {},
   "outputs": [
    {
     "name": "stdout",
     "output_type": "stream",
     "text": [
      "Cantidad de escuelas primarias en el condado de DELAWARE: 52\n"
     ]
    }
   ],
   "source": [
    "# Con .shape[0] contamos cuántas escuelas primarias (ELEMENTARY) hay en el condado de DELAWARE.\n",
    "num_elementary_delaware = df[(df['GRADE LEVEL'] == 'ELEMENTARY') & (df['COUNTY'] == 'DELAWARE')].shape[0]\n",
    "print(f\"Cantidad de escuelas primarias en el condado de DELAWARE: {num_elementary_delaware}\")"
   ]
  },
  {
   "cell_type": "markdown",
   "metadata": {},
   "source": [
    "##### **Comente los resultados del ejercicio y concluya con las posibilidades de uso de estas herramientas en su campo de acción.**\n",
    "\n",
    "Las herramientas de agregación permiten detectar patrones y tendencias en los datos, lo que facilita el análisis comparativo entre diferentes categorías o grupos. Este tipo de análisis es clave para identificar áreas que requieren atención prioritaria o que representan oportunidades de mejora, proporcionando una visión más clara del comportamiento general de los datos.\n",
    "\n",
    "Además, disponer de métricas como promedios, sumas, máximos y mínimos permite optimizar la toma de decisiones informadas. Estas métricas facilitan la priorización de acciones y la asignación eficiente de recursos, asegurando que se enfoquen en los aspectos que realmente importan y generan mayor impacto."
   ]
  },
  {
   "cell_type": "markdown",
   "metadata": {},
   "source": [
    "#### **Uniones (Joins):**\n",
    "\n",
    "##### **Defina un DataFrame de búsqueda llamado grade_lookup, que tenga las columnas ‘grade_level y ‘level’ que asigne niveles a cada uno de los grados como sigue: 1 a 'ELEMENTARY', 2 a 'MIDDLE/HIGH', 3 a 'MISC'.**"
   ]
  },
  {
   "cell_type": "code",
   "execution_count": null,
   "metadata": {},
   "outputs": [],
   "source": []
  },
  {
   "cell_type": "markdown",
   "metadata": {},
   "source": [
    "##### **Por otro lado, tome las primeras cinco filas de la columna de datos en la columna GRADE e imprímalas (Téngalas en cuenta pues las utilizaremos para estudiar los tipos de uniones).**"
   ]
  },
  {
   "cell_type": "markdown",
   "metadata": {},
   "source": [
    "##### **Describa los inner joins y realice un ejemplo con las primeras 5 filas de la columna grade_level y grade_lookup, muestre sus resultados y explíquelos.**"
   ]
  },
  {
   "cell_type": "markdown",
   "metadata": {},
   "source": [
    "##### **Describa los left outer joins y realice un ejemplo con las primeras 5 filas de la columna grade_level y grade_lookup, muestre sus resultados y explíquelos.**"
   ]
  },
  {
   "cell_type": "markdown",
   "metadata": {},
   "source": [
    "##### **Describa los full outer joins y realice un ejemplo con las primeras 5 filas de la columna grade_level y grade_lookup, muestre sus resultados y explíquelos.**"
   ]
  }
 ],
 "metadata": {
  "kernelspec": {
   "display_name": "Python 3",
   "language": "python",
   "name": "python3"
  },
  "language_info": {
   "codemirror_mode": {
    "name": "ipython",
    "version": 3
   },
   "file_extension": ".py",
   "mimetype": "text/x-python",
   "name": "python",
   "nbconvert_exporter": "python",
   "pygments_lexer": "ipython3",
   "version": "3.12.4"
  }
 },
 "nbformat": 4,
 "nbformat_minor": 2
}
